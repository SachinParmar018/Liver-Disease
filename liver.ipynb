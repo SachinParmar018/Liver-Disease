{
 "cells": [
  {
   "cell_type": "markdown",
   "metadata": {},
   "source": [
    "# Liver Disease. "
   ]
  },
  {
   "cell_type": "markdown",
   "metadata": {},
   "source": [
    "Import Library"
   ]
  },
  {
   "cell_type": "code",
   "execution_count": 1,
   "metadata": {},
   "outputs": [],
   "source": [
    "import numpy as np,pandas as pd\n",
    "import warnings\n",
    "warnings.filterwarnings(\"ignore\")\n",
    "pd.set_option(\"display.max_columns\",None)"
   ]
  },
  {
   "cell_type": "code",
   "execution_count": 2,
   "metadata": {},
   "outputs": [
    {
     "data": {
      "text/html": [
       "<div>\n",
       "<style scoped>\n",
       "    .dataframe tbody tr th:only-of-type {\n",
       "        vertical-align: middle;\n",
       "    }\n",
       "\n",
       "    .dataframe tbody tr th {\n",
       "        vertical-align: top;\n",
       "    }\n",
       "\n",
       "    .dataframe thead th {\n",
       "        text-align: right;\n",
       "    }\n",
       "</style>\n",
       "<table border=\"1\" class=\"dataframe\">\n",
       "  <thead>\n",
       "    <tr style=\"text-align: right;\">\n",
       "      <th></th>\n",
       "      <th>1</th>\n",
       "      <th>2</th>\n",
       "      <th>3</th>\n",
       "      <th>4</th>\n",
       "      <th>5</th>\n",
       "      <th>6</th>\n",
       "      <th>7</th>\n",
       "      <th>8</th>\n",
       "      <th>9</th>\n",
       "      <th>10</th>\n",
       "      <th>11</th>\n",
       "    </tr>\n",
       "    <tr>\n",
       "      <th>0</th>\n",
       "      <th></th>\n",
       "      <th></th>\n",
       "      <th></th>\n",
       "      <th></th>\n",
       "      <th></th>\n",
       "      <th></th>\n",
       "      <th></th>\n",
       "      <th></th>\n",
       "      <th></th>\n",
       "      <th></th>\n",
       "      <th></th>\n",
       "    </tr>\n",
       "  </thead>\n",
       "  <tbody>\n",
       "    <tr>\n",
       "      <td>1</td>\n",
       "      <td>65</td>\n",
       "      <td>Female</td>\n",
       "      <td>0.7</td>\n",
       "      <td>0.1</td>\n",
       "      <td>187</td>\n",
       "      <td>16</td>\n",
       "      <td>18</td>\n",
       "      <td>6.8</td>\n",
       "      <td>3.3</td>\n",
       "      <td>0.90</td>\n",
       "      <td>No</td>\n",
       "    </tr>\n",
       "    <tr>\n",
       "      <td>2</td>\n",
       "      <td>62</td>\n",
       "      <td>Male</td>\n",
       "      <td>10.9</td>\n",
       "      <td>5.5</td>\n",
       "      <td>699</td>\n",
       "      <td>64</td>\n",
       "      <td>100</td>\n",
       "      <td>7.5</td>\n",
       "      <td>3.2</td>\n",
       "      <td>0.74</td>\n",
       "      <td>No</td>\n",
       "    </tr>\n",
       "    <tr>\n",
       "      <td>3</td>\n",
       "      <td>62</td>\n",
       "      <td>Male</td>\n",
       "      <td>7.3</td>\n",
       "      <td>4.1</td>\n",
       "      <td>490</td>\n",
       "      <td>60</td>\n",
       "      <td>68</td>\n",
       "      <td>7.0</td>\n",
       "      <td>3.3</td>\n",
       "      <td>0.89</td>\n",
       "      <td>No</td>\n",
       "    </tr>\n",
       "    <tr>\n",
       "      <td>4</td>\n",
       "      <td>58</td>\n",
       "      <td>Male</td>\n",
       "      <td>1.0</td>\n",
       "      <td>0.4</td>\n",
       "      <td>182</td>\n",
       "      <td>14</td>\n",
       "      <td>20</td>\n",
       "      <td>6.8</td>\n",
       "      <td>3.4</td>\n",
       "      <td>1.00</td>\n",
       "      <td>No</td>\n",
       "    </tr>\n",
       "    <tr>\n",
       "      <td>5</td>\n",
       "      <td>72</td>\n",
       "      <td>Male</td>\n",
       "      <td>3.9</td>\n",
       "      <td>2.0</td>\n",
       "      <td>195</td>\n",
       "      <td>27</td>\n",
       "      <td>59</td>\n",
       "      <td>7.3</td>\n",
       "      <td>2.4</td>\n",
       "      <td>0.40</td>\n",
       "      <td>No</td>\n",
       "    </tr>\n",
       "  </tbody>\n",
       "</table>\n",
       "</div>"
      ],
      "text/plain": [
       "   1       2     3    4    5   6    7    8    9     10  11\n",
       "0                                                         \n",
       "1  65  Female   0.7  0.1  187  16   18  6.8  3.3  0.90  No\n",
       "2  62    Male  10.9  5.5  699  64  100  7.5  3.2  0.74  No\n",
       "3  62    Male   7.3  4.1  490  60   68  7.0  3.3  0.89  No\n",
       "4  58    Male   1.0  0.4  182  14   20  6.8  3.4  1.00  No\n",
       "5  72    Male   3.9  2.0  195  27   59  7.3  2.4  0.40  No"
      ]
     },
     "execution_count": 2,
     "metadata": {},
     "output_type": "execute_result"
    }
   ],
   "source": [
    "df=pd.read_csv(r'IndianLiverPatientData.txt',header=None,index_col=0,delimiter='\\t') \n",
    "df.head()"
   ]
  },
  {
   "cell_type": "code",
   "execution_count": 6,
   "metadata": {},
   "outputs": [
    {
     "data": {
      "text/html": [
       "<div>\n",
       "<style scoped>\n",
       "    .dataframe tbody tr th:only-of-type {\n",
       "        vertical-align: middle;\n",
       "    }\n",
       "\n",
       "    .dataframe tbody tr th {\n",
       "        vertical-align: top;\n",
       "    }\n",
       "\n",
       "    .dataframe thead th {\n",
       "        text-align: right;\n",
       "    }\n",
       "</style>\n",
       "<table border=\"1\" class=\"dataframe\">\n",
       "  <thead>\n",
       "    <tr style=\"text-align: right;\">\n",
       "      <th></th>\n",
       "      <th>Age</th>\n",
       "      <th>Gender</th>\n",
       "      <th>Total_Bilirubin</th>\n",
       "      <th>Direct_Bilirubin</th>\n",
       "      <th>Alkaline_Phosphotase</th>\n",
       "      <th>Alamine_Aminotransferase</th>\n",
       "      <th>Aspartate_Aminotransferase</th>\n",
       "      <th>Total_Protiens</th>\n",
       "      <th>Albumin</th>\n",
       "      <th>Albumin_and_Globulin_Ratio</th>\n",
       "      <th>Class</th>\n",
       "    </tr>\n",
       "    <tr>\n",
       "      <th>0</th>\n",
       "      <th></th>\n",
       "      <th></th>\n",
       "      <th></th>\n",
       "      <th></th>\n",
       "      <th></th>\n",
       "      <th></th>\n",
       "      <th></th>\n",
       "      <th></th>\n",
       "      <th></th>\n",
       "      <th></th>\n",
       "      <th></th>\n",
       "    </tr>\n",
       "  </thead>\n",
       "  <tbody>\n",
       "    <tr>\n",
       "      <td>1</td>\n",
       "      <td>65</td>\n",
       "      <td>Female</td>\n",
       "      <td>0.7</td>\n",
       "      <td>0.1</td>\n",
       "      <td>187</td>\n",
       "      <td>16</td>\n",
       "      <td>18</td>\n",
       "      <td>6.8</td>\n",
       "      <td>3.3</td>\n",
       "      <td>0.90</td>\n",
       "      <td>No</td>\n",
       "    </tr>\n",
       "    <tr>\n",
       "      <td>2</td>\n",
       "      <td>62</td>\n",
       "      <td>Male</td>\n",
       "      <td>10.9</td>\n",
       "      <td>5.5</td>\n",
       "      <td>699</td>\n",
       "      <td>64</td>\n",
       "      <td>100</td>\n",
       "      <td>7.5</td>\n",
       "      <td>3.2</td>\n",
       "      <td>0.74</td>\n",
       "      <td>No</td>\n",
       "    </tr>\n",
       "    <tr>\n",
       "      <td>3</td>\n",
       "      <td>62</td>\n",
       "      <td>Male</td>\n",
       "      <td>7.3</td>\n",
       "      <td>4.1</td>\n",
       "      <td>490</td>\n",
       "      <td>60</td>\n",
       "      <td>68</td>\n",
       "      <td>7.0</td>\n",
       "      <td>3.3</td>\n",
       "      <td>0.89</td>\n",
       "      <td>No</td>\n",
       "    </tr>\n",
       "    <tr>\n",
       "      <td>4</td>\n",
       "      <td>58</td>\n",
       "      <td>Male</td>\n",
       "      <td>1.0</td>\n",
       "      <td>0.4</td>\n",
       "      <td>182</td>\n",
       "      <td>14</td>\n",
       "      <td>20</td>\n",
       "      <td>6.8</td>\n",
       "      <td>3.4</td>\n",
       "      <td>1.00</td>\n",
       "      <td>No</td>\n",
       "    </tr>\n",
       "    <tr>\n",
       "      <td>5</td>\n",
       "      <td>72</td>\n",
       "      <td>Male</td>\n",
       "      <td>3.9</td>\n",
       "      <td>2.0</td>\n",
       "      <td>195</td>\n",
       "      <td>27</td>\n",
       "      <td>59</td>\n",
       "      <td>7.3</td>\n",
       "      <td>2.4</td>\n",
       "      <td>0.40</td>\n",
       "      <td>No</td>\n",
       "    </tr>\n",
       "  </tbody>\n",
       "</table>\n",
       "</div>"
      ],
      "text/plain": [
       "   Age  Gender  Total_Bilirubin  Direct_Bilirubin  Alkaline_Phosphotase  \\\n",
       "0                                                                         \n",
       "1   65  Female              0.7               0.1                   187   \n",
       "2   62    Male             10.9               5.5                   699   \n",
       "3   62    Male              7.3               4.1                   490   \n",
       "4   58    Male              1.0               0.4                   182   \n",
       "5   72    Male              3.9               2.0                   195   \n",
       "\n",
       "   Alamine_Aminotransferase  Aspartate_Aminotransferase  Total_Protiens  \\\n",
       "0                                                                         \n",
       "1                        16                          18             6.8   \n",
       "2                        64                         100             7.5   \n",
       "3                        60                          68             7.0   \n",
       "4                        14                          20             6.8   \n",
       "5                        27                          59             7.3   \n",
       "\n",
       "   Albumin  Albumin_and_Globulin_Ratio Class  \n",
       "0                                             \n",
       "1      3.3                        0.90    No  \n",
       "2      3.2                        0.74    No  \n",
       "3      3.3                        0.89    No  \n",
       "4      3.4                        1.00    No  \n",
       "5      2.4                        0.40    No  "
      ]
     },
     "execution_count": 6,
     "metadata": {},
     "output_type": "execute_result"
    }
   ],
   "source": [
    "df.columns=['Age','Gender','Total_Bilirubin','Direct_Bilirubin','Alkaline_Phosphotase','Alamine_Aminotransferase','Aspartate_Aminotransferase','Total_Protiens','Albumin','Albumin_and_Globulin_Ratio','Class']\n",
    "df.head()"
   ]
  },
  {
   "cell_type": "markdown",
   "metadata": {},
   "source": [
    "# Preprocessing"
   ]
  },
  {
   "cell_type": "code",
   "execution_count": 7,
   "metadata": {},
   "outputs": [
    {
     "data": {
      "text/plain": [
       "Age                            0\n",
       "Gender                        20\n",
       "Total_Bilirubin                0\n",
       "Direct_Bilirubin               0\n",
       "Alkaline_Phosphotase           0\n",
       "Alamine_Aminotransferase       0\n",
       "Aspartate_Aminotransferase     0\n",
       "Total_Protiens                15\n",
       "Albumin                        0\n",
       "Albumin_and_Globulin_Ratio     4\n",
       "Class                          0\n",
       "dtype: int64"
      ]
     },
     "execution_count": 7,
     "metadata": {},
     "output_type": "execute_result"
    }
   ],
   "source": [
    "df.isnull().sum()"
   ]
  },
  {
   "cell_type": "code",
   "execution_count": 8,
   "metadata": {},
   "outputs": [
    {
     "data": {
      "text/plain": [
       "(583, 11)"
      ]
     },
     "execution_count": 8,
     "metadata": {},
     "output_type": "execute_result"
    }
   ],
   "source": [
    "df.shape"
   ]
  },
  {
   "cell_type": "code",
   "execution_count": 9,
   "metadata": {},
   "outputs": [],
   "source": [
    "#create a copy of the DataFrame\n",
    "df_rev=pd.DataFrame.copy(df)"
   ]
  },
  {
   "cell_type": "code",
   "execution_count": 10,
   "metadata": {},
   "outputs": [
    {
     "data": {
      "text/html": [
       "<div>\n",
       "<style scoped>\n",
       "    .dataframe tbody tr th:only-of-type {\n",
       "        vertical-align: middle;\n",
       "    }\n",
       "\n",
       "    .dataframe tbody tr th {\n",
       "        vertical-align: top;\n",
       "    }\n",
       "\n",
       "    .dataframe thead th {\n",
       "        text-align: right;\n",
       "    }\n",
       "</style>\n",
       "<table border=\"1\" class=\"dataframe\">\n",
       "  <thead>\n",
       "    <tr style=\"text-align: right;\">\n",
       "      <th></th>\n",
       "      <th>Age</th>\n",
       "      <th>Gender</th>\n",
       "      <th>Total_Bilirubin</th>\n",
       "      <th>Direct_Bilirubin</th>\n",
       "      <th>Alkaline_Phosphotase</th>\n",
       "      <th>Alamine_Aminotransferase</th>\n",
       "      <th>Aspartate_Aminotransferase</th>\n",
       "      <th>Total_Protiens</th>\n",
       "      <th>Albumin</th>\n",
       "      <th>Albumin_and_Globulin_Ratio</th>\n",
       "      <th>Class</th>\n",
       "    </tr>\n",
       "    <tr>\n",
       "      <th>0</th>\n",
       "      <th></th>\n",
       "      <th></th>\n",
       "      <th></th>\n",
       "      <th></th>\n",
       "      <th></th>\n",
       "      <th></th>\n",
       "      <th></th>\n",
       "      <th></th>\n",
       "      <th></th>\n",
       "      <th></th>\n",
       "      <th></th>\n",
       "    </tr>\n",
       "  </thead>\n",
       "  <tbody>\n",
       "    <tr>\n",
       "      <td>1</td>\n",
       "      <td>65</td>\n",
       "      <td>Female</td>\n",
       "      <td>0.7</td>\n",
       "      <td>0.1</td>\n",
       "      <td>187</td>\n",
       "      <td>16</td>\n",
       "      <td>18</td>\n",
       "      <td>6.8</td>\n",
       "      <td>3.3</td>\n",
       "      <td>0.90</td>\n",
       "      <td>No</td>\n",
       "    </tr>\n",
       "    <tr>\n",
       "      <td>2</td>\n",
       "      <td>62</td>\n",
       "      <td>Male</td>\n",
       "      <td>10.9</td>\n",
       "      <td>5.5</td>\n",
       "      <td>699</td>\n",
       "      <td>64</td>\n",
       "      <td>100</td>\n",
       "      <td>7.5</td>\n",
       "      <td>3.2</td>\n",
       "      <td>0.74</td>\n",
       "      <td>No</td>\n",
       "    </tr>\n",
       "    <tr>\n",
       "      <td>3</td>\n",
       "      <td>62</td>\n",
       "      <td>Male</td>\n",
       "      <td>7.3</td>\n",
       "      <td>4.1</td>\n",
       "      <td>490</td>\n",
       "      <td>60</td>\n",
       "      <td>68</td>\n",
       "      <td>7.0</td>\n",
       "      <td>3.3</td>\n",
       "      <td>0.89</td>\n",
       "      <td>No</td>\n",
       "    </tr>\n",
       "    <tr>\n",
       "      <td>4</td>\n",
       "      <td>58</td>\n",
       "      <td>Male</td>\n",
       "      <td>1.0</td>\n",
       "      <td>0.4</td>\n",
       "      <td>182</td>\n",
       "      <td>14</td>\n",
       "      <td>20</td>\n",
       "      <td>6.8</td>\n",
       "      <td>3.4</td>\n",
       "      <td>1.00</td>\n",
       "      <td>No</td>\n",
       "    </tr>\n",
       "    <tr>\n",
       "      <td>5</td>\n",
       "      <td>72</td>\n",
       "      <td>Male</td>\n",
       "      <td>3.9</td>\n",
       "      <td>2.0</td>\n",
       "      <td>195</td>\n",
       "      <td>27</td>\n",
       "      <td>59</td>\n",
       "      <td>7.3</td>\n",
       "      <td>2.4</td>\n",
       "      <td>0.40</td>\n",
       "      <td>No</td>\n",
       "    </tr>\n",
       "    <tr>\n",
       "      <td>...</td>\n",
       "      <td>...</td>\n",
       "      <td>...</td>\n",
       "      <td>...</td>\n",
       "      <td>...</td>\n",
       "      <td>...</td>\n",
       "      <td>...</td>\n",
       "      <td>...</td>\n",
       "      <td>...</td>\n",
       "      <td>...</td>\n",
       "      <td>...</td>\n",
       "      <td>...</td>\n",
       "    </tr>\n",
       "    <tr>\n",
       "      <td>579</td>\n",
       "      <td>60</td>\n",
       "      <td>Male</td>\n",
       "      <td>0.5</td>\n",
       "      <td>0.1</td>\n",
       "      <td>500</td>\n",
       "      <td>20</td>\n",
       "      <td>34</td>\n",
       "      <td>5.9</td>\n",
       "      <td>1.6</td>\n",
       "      <td>0.37</td>\n",
       "      <td>Yes</td>\n",
       "    </tr>\n",
       "    <tr>\n",
       "      <td>580</td>\n",
       "      <td>40</td>\n",
       "      <td>Male</td>\n",
       "      <td>0.6</td>\n",
       "      <td>0.1</td>\n",
       "      <td>98</td>\n",
       "      <td>35</td>\n",
       "      <td>31</td>\n",
       "      <td>6.0</td>\n",
       "      <td>3.2</td>\n",
       "      <td>1.10</td>\n",
       "      <td>No</td>\n",
       "    </tr>\n",
       "    <tr>\n",
       "      <td>581</td>\n",
       "      <td>52</td>\n",
       "      <td>Male</td>\n",
       "      <td>0.8</td>\n",
       "      <td>0.2</td>\n",
       "      <td>245</td>\n",
       "      <td>48</td>\n",
       "      <td>49</td>\n",
       "      <td>6.4</td>\n",
       "      <td>3.2</td>\n",
       "      <td>1.00</td>\n",
       "      <td>No</td>\n",
       "    </tr>\n",
       "    <tr>\n",
       "      <td>582</td>\n",
       "      <td>31</td>\n",
       "      <td>Male</td>\n",
       "      <td>1.3</td>\n",
       "      <td>0.5</td>\n",
       "      <td>184</td>\n",
       "      <td>29</td>\n",
       "      <td>32</td>\n",
       "      <td>6.8</td>\n",
       "      <td>3.4</td>\n",
       "      <td>1.00</td>\n",
       "      <td>No</td>\n",
       "    </tr>\n",
       "    <tr>\n",
       "      <td>583</td>\n",
       "      <td>38</td>\n",
       "      <td>Male</td>\n",
       "      <td>1.0</td>\n",
       "      <td>0.3</td>\n",
       "      <td>216</td>\n",
       "      <td>21</td>\n",
       "      <td>24</td>\n",
       "      <td>7.3</td>\n",
       "      <td>4.4</td>\n",
       "      <td>1.50</td>\n",
       "      <td>Yes</td>\n",
       "    </tr>\n",
       "  </tbody>\n",
       "</table>\n",
       "<p>583 rows × 11 columns</p>\n",
       "</div>"
      ],
      "text/plain": [
       "     Age  Gender  Total_Bilirubin  Direct_Bilirubin  Alkaline_Phosphotase  \\\n",
       "0                                                                           \n",
       "1     65  Female              0.7               0.1                   187   \n",
       "2     62    Male             10.9               5.5                   699   \n",
       "3     62    Male              7.3               4.1                   490   \n",
       "4     58    Male              1.0               0.4                   182   \n",
       "5     72    Male              3.9               2.0                   195   \n",
       "..   ...     ...              ...               ...                   ...   \n",
       "579   60    Male              0.5               0.1                   500   \n",
       "580   40    Male              0.6               0.1                    98   \n",
       "581   52    Male              0.8               0.2                   245   \n",
       "582   31    Male              1.3               0.5                   184   \n",
       "583   38    Male              1.0               0.3                   216   \n",
       "\n",
       "     Alamine_Aminotransferase  Aspartate_Aminotransferase  Total_Protiens  \\\n",
       "0                                                                           \n",
       "1                          16                          18             6.8   \n",
       "2                          64                         100             7.5   \n",
       "3                          60                          68             7.0   \n",
       "4                          14                          20             6.8   \n",
       "5                          27                          59             7.3   \n",
       "..                        ...                         ...             ...   \n",
       "579                        20                          34             5.9   \n",
       "580                        35                          31             6.0   \n",
       "581                        48                          49             6.4   \n",
       "582                        29                          32             6.8   \n",
       "583                        21                          24             7.3   \n",
       "\n",
       "     Albumin  Albumin_and_Globulin_Ratio Class  \n",
       "0                                               \n",
       "1        3.3                        0.90    No  \n",
       "2        3.2                        0.74    No  \n",
       "3        3.3                        0.89    No  \n",
       "4        3.4                        1.00    No  \n",
       "5        2.4                        0.40    No  \n",
       "..       ...                         ...   ...  \n",
       "579      1.6                        0.37   Yes  \n",
       "580      3.2                        1.10    No  \n",
       "581      3.2                        1.00    No  \n",
       "582      3.4                        1.00    No  \n",
       "583      4.4                        1.50   Yes  \n",
       "\n",
       "[583 rows x 11 columns]"
      ]
     },
     "execution_count": 10,
     "metadata": {},
     "output_type": "execute_result"
    }
   ],
   "source": [
    "df_rev"
   ]
  },
  {
   "cell_type": "code",
   "execution_count": 11,
   "metadata": {},
   "outputs": [
    {
     "name": "stdout",
     "output_type": "stream",
     "text": [
      "<class 'pandas.core.frame.DataFrame'>\n",
      "Int64Index: 583 entries, 1 to 583\n",
      "Data columns (total 11 columns):\n",
      "Age                           583 non-null int64\n",
      "Gender                        563 non-null object\n",
      "Total_Bilirubin               583 non-null float64\n",
      "Direct_Bilirubin              583 non-null float64\n",
      "Alkaline_Phosphotase          583 non-null int64\n",
      "Alamine_Aminotransferase      583 non-null int64\n",
      "Aspartate_Aminotransferase    583 non-null int64\n",
      "Total_Protiens                568 non-null float64\n",
      "Albumin                       583 non-null float64\n",
      "Albumin_and_Globulin_Ratio    579 non-null float64\n",
      "Class                         583 non-null object\n",
      "dtypes: float64(5), int64(4), object(2)\n",
      "memory usage: 54.7+ KB\n"
     ]
    }
   ],
   "source": [
    "df_rev.info()"
   ]
  },
  {
   "cell_type": "code",
   "execution_count": 12,
   "metadata": {},
   "outputs": [
    {
     "data": {
      "text/plain": [
       "Age                             int64\n",
       "Gender                         object\n",
       "Total_Bilirubin               float64\n",
       "Direct_Bilirubin              float64\n",
       "Alkaline_Phosphotase            int64\n",
       "Alamine_Aminotransferase        int64\n",
       "Aspartate_Aminotransferase      int64\n",
       "Total_Protiens                float64\n",
       "Albumin                       float64\n",
       "Albumin_and_Globulin_Ratio    float64\n",
       "Class                          object\n",
       "dtype: object"
      ]
     },
     "execution_count": 12,
     "metadata": {},
     "output_type": "execute_result"
    }
   ],
   "source": [
    "df_rev.dtypes"
   ]
  },
  {
   "cell_type": "markdown",
   "metadata": {},
   "source": [
    "#  Imputing Missing values"
   ]
  },
  {
   "cell_type": "code",
   "execution_count": 13,
   "metadata": {},
   "outputs": [
    {
     "data": {
      "text/plain": [
       "Age                            0\n",
       "Gender                        20\n",
       "Total_Bilirubin                0\n",
       "Direct_Bilirubin               0\n",
       "Alkaline_Phosphotase           0\n",
       "Alamine_Aminotransferase       0\n",
       "Aspartate_Aminotransferase     0\n",
       "Total_Protiens                15\n",
       "Albumin                        0\n",
       "Albumin_and_Globulin_Ratio     4\n",
       "Class                          0\n",
       "dtype: int64"
      ]
     },
     "execution_count": 13,
     "metadata": {},
     "output_type": "execute_result"
    }
   ],
   "source": [
    "df_rev.isnull().sum()"
   ]
  },
  {
   "cell_type": "code",
   "execution_count": 14,
   "metadata": {},
   "outputs": [],
   "source": [
    " df_rev[\"Gender\"].fillna(df_rev[\"Gender\"].mode()[0],inplace=True)"
   ]
  },
  {
   "cell_type": "code",
   "execution_count": 15,
   "metadata": {},
   "outputs": [
    {
     "data": {
      "text/plain": [
       "Age                            0\n",
       "Gender                         0\n",
       "Total_Bilirubin                0\n",
       "Direct_Bilirubin               0\n",
       "Alkaline_Phosphotase           0\n",
       "Alamine_Aminotransferase       0\n",
       "Aspartate_Aminotransferase     0\n",
       "Total_Protiens                15\n",
       "Albumin                        0\n",
       "Albumin_and_Globulin_Ratio     4\n",
       "Class                          0\n",
       "dtype: int64"
      ]
     },
     "execution_count": 15,
     "metadata": {},
     "output_type": "execute_result"
    }
   ],
   "source": [
    "df_rev.isnull().sum()"
   ]
  },
  {
   "cell_type": "code",
   "execution_count": 16,
   "metadata": {},
   "outputs": [
    {
     "data": {
      "text/html": [
       "<div>\n",
       "<style scoped>\n",
       "    .dataframe tbody tr th:only-of-type {\n",
       "        vertical-align: middle;\n",
       "    }\n",
       "\n",
       "    .dataframe tbody tr th {\n",
       "        vertical-align: top;\n",
       "    }\n",
       "\n",
       "    .dataframe thead th {\n",
       "        text-align: right;\n",
       "    }\n",
       "</style>\n",
       "<table border=\"1\" class=\"dataframe\">\n",
       "  <thead>\n",
       "    <tr style=\"text-align: right;\">\n",
       "      <th></th>\n",
       "      <th>Age</th>\n",
       "      <th>Gender</th>\n",
       "      <th>Total_Bilirubin</th>\n",
       "      <th>Direct_Bilirubin</th>\n",
       "      <th>Alkaline_Phosphotase</th>\n",
       "      <th>Alamine_Aminotransferase</th>\n",
       "      <th>Aspartate_Aminotransferase</th>\n",
       "      <th>Total_Protiens</th>\n",
       "      <th>Albumin</th>\n",
       "      <th>Albumin_and_Globulin_Ratio</th>\n",
       "      <th>Class</th>\n",
       "    </tr>\n",
       "    <tr>\n",
       "      <th>0</th>\n",
       "      <th></th>\n",
       "      <th></th>\n",
       "      <th></th>\n",
       "      <th></th>\n",
       "      <th></th>\n",
       "      <th></th>\n",
       "      <th></th>\n",
       "      <th></th>\n",
       "      <th></th>\n",
       "      <th></th>\n",
       "      <th></th>\n",
       "    </tr>\n",
       "  </thead>\n",
       "  <tbody>\n",
       "    <tr>\n",
       "      <td>1</td>\n",
       "      <td>65</td>\n",
       "      <td>Female</td>\n",
       "      <td>0.7</td>\n",
       "      <td>0.1</td>\n",
       "      <td>187</td>\n",
       "      <td>16</td>\n",
       "      <td>18</td>\n",
       "      <td>6.8</td>\n",
       "      <td>3.3</td>\n",
       "      <td>0.90</td>\n",
       "      <td>No</td>\n",
       "    </tr>\n",
       "    <tr>\n",
       "      <td>2</td>\n",
       "      <td>62</td>\n",
       "      <td>Male</td>\n",
       "      <td>10.9</td>\n",
       "      <td>5.5</td>\n",
       "      <td>699</td>\n",
       "      <td>64</td>\n",
       "      <td>100</td>\n",
       "      <td>7.5</td>\n",
       "      <td>3.2</td>\n",
       "      <td>0.74</td>\n",
       "      <td>No</td>\n",
       "    </tr>\n",
       "  </tbody>\n",
       "</table>\n",
       "</div>"
      ],
      "text/plain": [
       "   Age  Gender  Total_Bilirubin  Direct_Bilirubin  Alkaline_Phosphotase  \\\n",
       "0                                                                         \n",
       "1   65  Female              0.7               0.1                   187   \n",
       "2   62    Male             10.9               5.5                   699   \n",
       "\n",
       "   Alamine_Aminotransferase  Aspartate_Aminotransferase  Total_Protiens  \\\n",
       "0                                                                         \n",
       "1                        16                          18             6.8   \n",
       "2                        64                         100             7.5   \n",
       "\n",
       "   Albumin  Albumin_and_Globulin_Ratio Class  \n",
       "0                                             \n",
       "1      3.3                        0.90    No  \n",
       "2      3.2                        0.74    No  "
      ]
     },
     "execution_count": 16,
     "metadata": {},
     "output_type": "execute_result"
    }
   ],
   "source": [
    "df_rev.head(2)"
   ]
  },
  {
   "cell_type": "code",
   "execution_count": 17,
   "metadata": {},
   "outputs": [],
   "source": [
    "df_rev[\"Total_Protiens\"].fillna(df_rev[\"Total_Protiens\"].mean(),inplace=True)"
   ]
  },
  {
   "cell_type": "code",
   "execution_count": 18,
   "metadata": {},
   "outputs": [
    {
     "data": {
      "text/plain": [
       "Age                           0\n",
       "Gender                        0\n",
       "Total_Bilirubin               0\n",
       "Direct_Bilirubin              0\n",
       "Alkaline_Phosphotase          0\n",
       "Alamine_Aminotransferase      0\n",
       "Aspartate_Aminotransferase    0\n",
       "Total_Protiens                0\n",
       "Albumin                       0\n",
       "Albumin_and_Globulin_Ratio    4\n",
       "Class                         0\n",
       "dtype: int64"
      ]
     },
     "execution_count": 18,
     "metadata": {},
     "output_type": "execute_result"
    }
   ],
   "source": [
    "df_rev.isnull().sum()"
   ]
  },
  {
   "cell_type": "code",
   "execution_count": 19,
   "metadata": {},
   "outputs": [],
   "source": [
    "df_rev[\"Albumin_and_Globulin_Ratio\"].fillna(df_rev[\"Albumin_and_Globulin_Ratio\"].mean(),inplace=True)"
   ]
  },
  {
   "cell_type": "code",
   "execution_count": 20,
   "metadata": {},
   "outputs": [
    {
     "data": {
      "text/plain": [
       "Age                           0\n",
       "Gender                        0\n",
       "Total_Bilirubin               0\n",
       "Direct_Bilirubin              0\n",
       "Alkaline_Phosphotase          0\n",
       "Alamine_Aminotransferase      0\n",
       "Aspartate_Aminotransferase    0\n",
       "Total_Protiens                0\n",
       "Albumin                       0\n",
       "Albumin_and_Globulin_Ratio    0\n",
       "Class                         0\n",
       "dtype: int64"
      ]
     },
     "execution_count": 20,
     "metadata": {},
     "output_type": "execute_result"
    }
   ],
   "source": [
    "df_rev.isnull().sum()"
   ]
  },
  {
   "cell_type": "code",
   "execution_count": 21,
   "metadata": {},
   "outputs": [
    {
     "data": {
      "text/html": [
       "<div>\n",
       "<style scoped>\n",
       "    .dataframe tbody tr th:only-of-type {\n",
       "        vertical-align: middle;\n",
       "    }\n",
       "\n",
       "    .dataframe tbody tr th {\n",
       "        vertical-align: top;\n",
       "    }\n",
       "\n",
       "    .dataframe thead th {\n",
       "        text-align: right;\n",
       "    }\n",
       "</style>\n",
       "<table border=\"1\" class=\"dataframe\">\n",
       "  <thead>\n",
       "    <tr style=\"text-align: right;\">\n",
       "      <th></th>\n",
       "      <th>Age</th>\n",
       "      <th>Total_Bilirubin</th>\n",
       "      <th>Direct_Bilirubin</th>\n",
       "      <th>Alkaline_Phosphotase</th>\n",
       "      <th>Alamine_Aminotransferase</th>\n",
       "      <th>Aspartate_Aminotransferase</th>\n",
       "      <th>Total_Protiens</th>\n",
       "      <th>Albumin</th>\n",
       "      <th>Albumin_and_Globulin_Ratio</th>\n",
       "    </tr>\n",
       "  </thead>\n",
       "  <tbody>\n",
       "    <tr>\n",
       "      <td>count</td>\n",
       "      <td>583.000000</td>\n",
       "      <td>583.000000</td>\n",
       "      <td>583.000000</td>\n",
       "      <td>583.000000</td>\n",
       "      <td>583.000000</td>\n",
       "      <td>583.000000</td>\n",
       "      <td>568.000000</td>\n",
       "      <td>583.000000</td>\n",
       "      <td>579.000000</td>\n",
       "    </tr>\n",
       "    <tr>\n",
       "      <td>mean</td>\n",
       "      <td>44.746141</td>\n",
       "      <td>3.298799</td>\n",
       "      <td>1.486106</td>\n",
       "      <td>290.576329</td>\n",
       "      <td>80.713551</td>\n",
       "      <td>109.910806</td>\n",
       "      <td>6.483979</td>\n",
       "      <td>3.141852</td>\n",
       "      <td>0.947064</td>\n",
       "    </tr>\n",
       "    <tr>\n",
       "      <td>std</td>\n",
       "      <td>16.189833</td>\n",
       "      <td>6.209522</td>\n",
       "      <td>2.808498</td>\n",
       "      <td>242.937989</td>\n",
       "      <td>182.620356</td>\n",
       "      <td>288.918529</td>\n",
       "      <td>1.084039</td>\n",
       "      <td>0.795519</td>\n",
       "      <td>0.319592</td>\n",
       "    </tr>\n",
       "    <tr>\n",
       "      <td>min</td>\n",
       "      <td>4.000000</td>\n",
       "      <td>0.400000</td>\n",
       "      <td>0.100000</td>\n",
       "      <td>63.000000</td>\n",
       "      <td>10.000000</td>\n",
       "      <td>10.000000</td>\n",
       "      <td>2.700000</td>\n",
       "      <td>0.900000</td>\n",
       "      <td>0.300000</td>\n",
       "    </tr>\n",
       "    <tr>\n",
       "      <td>25%</td>\n",
       "      <td>33.000000</td>\n",
       "      <td>0.800000</td>\n",
       "      <td>0.200000</td>\n",
       "      <td>175.500000</td>\n",
       "      <td>23.000000</td>\n",
       "      <td>25.000000</td>\n",
       "      <td>5.800000</td>\n",
       "      <td>2.600000</td>\n",
       "      <td>0.700000</td>\n",
       "    </tr>\n",
       "    <tr>\n",
       "      <td>50%</td>\n",
       "      <td>45.000000</td>\n",
       "      <td>1.000000</td>\n",
       "      <td>0.300000</td>\n",
       "      <td>208.000000</td>\n",
       "      <td>35.000000</td>\n",
       "      <td>42.000000</td>\n",
       "      <td>6.600000</td>\n",
       "      <td>3.100000</td>\n",
       "      <td>0.930000</td>\n",
       "    </tr>\n",
       "    <tr>\n",
       "      <td>75%</td>\n",
       "      <td>58.000000</td>\n",
       "      <td>2.600000</td>\n",
       "      <td>1.300000</td>\n",
       "      <td>298.000000</td>\n",
       "      <td>60.500000</td>\n",
       "      <td>87.000000</td>\n",
       "      <td>7.200000</td>\n",
       "      <td>3.800000</td>\n",
       "      <td>1.100000</td>\n",
       "    </tr>\n",
       "    <tr>\n",
       "      <td>max</td>\n",
       "      <td>90.000000</td>\n",
       "      <td>75.000000</td>\n",
       "      <td>19.700000</td>\n",
       "      <td>2110.000000</td>\n",
       "      <td>2000.000000</td>\n",
       "      <td>4929.000000</td>\n",
       "      <td>9.600000</td>\n",
       "      <td>5.500000</td>\n",
       "      <td>2.800000</td>\n",
       "    </tr>\n",
       "  </tbody>\n",
       "</table>\n",
       "</div>"
      ],
      "text/plain": [
       "              Age  Total_Bilirubin  Direct_Bilirubin  Alkaline_Phosphotase  \\\n",
       "count  583.000000       583.000000        583.000000            583.000000   \n",
       "mean    44.746141         3.298799          1.486106            290.576329   \n",
       "std     16.189833         6.209522          2.808498            242.937989   \n",
       "min      4.000000         0.400000          0.100000             63.000000   \n",
       "25%     33.000000         0.800000          0.200000            175.500000   \n",
       "50%     45.000000         1.000000          0.300000            208.000000   \n",
       "75%     58.000000         2.600000          1.300000            298.000000   \n",
       "max     90.000000        75.000000         19.700000           2110.000000   \n",
       "\n",
       "       Alamine_Aminotransferase  Aspartate_Aminotransferase  Total_Protiens  \\\n",
       "count                583.000000                  583.000000      568.000000   \n",
       "mean                  80.713551                  109.910806        6.483979   \n",
       "std                  182.620356                  288.918529        1.084039   \n",
       "min                   10.000000                   10.000000        2.700000   \n",
       "25%                   23.000000                   25.000000        5.800000   \n",
       "50%                   35.000000                   42.000000        6.600000   \n",
       "75%                   60.500000                   87.000000        7.200000   \n",
       "max                 2000.000000                 4929.000000        9.600000   \n",
       "\n",
       "          Albumin  Albumin_and_Globulin_Ratio  \n",
       "count  583.000000                  579.000000  \n",
       "mean     3.141852                    0.947064  \n",
       "std      0.795519                    0.319592  \n",
       "min      0.900000                    0.300000  \n",
       "25%      2.600000                    0.700000  \n",
       "50%      3.100000                    0.930000  \n",
       "75%      3.800000                    1.100000  \n",
       "max      5.500000                    2.800000  "
      ]
     },
     "execution_count": 21,
     "metadata": {},
     "output_type": "execute_result"
    }
   ],
   "source": [
    "df.describe()"
   ]
  },
  {
   "cell_type": "code",
   "execution_count": 23,
   "metadata": {},
   "outputs": [
    {
     "data": {
      "text/plain": [
       "<matplotlib.axes._subplots.AxesSubplot at 0x1bf330cf548>"
      ]
     },
     "execution_count": 23,
     "metadata": {},
     "output_type": "execute_result"
    },
    {
     "data": {
      "image/png": "[encoded data removed]",
      "text/plain": [
       "<Figure size 432x288 with 1 Axes>"
      ]
     },
     "metadata": {
      "needs_background": "light"
     },
     "output_type": "display_data"
    }
   ],
   "source": [
    "df_rev.boxplot()"
   ]
  },
  {
   "cell_type": "code",
   "execution_count": 24,
   "metadata": {},
   "outputs": [
    {
     "data": {
      "text/plain": [
       "<matplotlib.axes._subplots.AxesSubplot at 0x1bf33214248>"
      ]
     },
     "execution_count": 24,
     "metadata": {},
     "output_type": "execute_result"
    },
    {
     "data": {
      "image/png": "[encoded data removed]",
      "text/plain": [
       "<Figure size 432x288 with 1 Axes>"
      ]
     },
     "metadata": {
      "needs_background": "light"
     },
     "output_type": "display_data"
    }
   ],
   "source": [
    "df_rev.boxplot(column='Aspartate_Aminotransferase')"
   ]
  },
  {
   "cell_type": "code",
   "execution_count": 25,
   "metadata": {},
   "outputs": [
    {
     "data": {
      "text/plain": [
       "(583, 11)"
      ]
     },
     "execution_count": 25,
     "metadata": {},
     "output_type": "execute_result"
    }
   ],
   "source": [
    "df_rev.shape"
   ]
  },
  {
   "cell_type": "code",
   "execution_count": 26,
   "metadata": {},
   "outputs": [],
   "source": [
    "#for value in colname:\n",
    "q1 = df_rev['Aspartate_Aminotransferase'].quantile(0.25) #first quartile value\n",
    "q3 = df_rev['Aspartate_Aminotransferase'].quantile(0.75) # third quartile value\n",
    "iqr = q3-q1 #Interquartile range\n",
    "low  = q1-1.5*iqr #acceptable range\n",
    "high = q3+1.5*iqr #acceptable range"
   ]
  },
  {
   "cell_type": "code",
   "execution_count": 27,
   "metadata": {},
   "outputs": [],
   "source": [
    "df_include = df_rev.loc[(df_rev['Aspartate_Aminotransferase'] >= low) & \\\n",
    "                                (df_rev['Aspartate_Aminotransferase'] <= high)] # meeting the acceptable range\n",
    "df_exclude = df_rev.loc[(df_rev['Aspartate_Aminotransferase'] < low) | \\\n",
    "                               (df_rev['Aspartate_Aminotransferase'] > high)] #not meeting the acceptable range\n"
   ]
  },
  {
   "cell_type": "code",
   "execution_count": 28,
   "metadata": {},
   "outputs": [
    {
     "data": {
      "text/plain": [
       "(583, 11)"
      ]
     },
     "execution_count": 28,
     "metadata": {},
     "output_type": "execute_result"
    }
   ],
   "source": [
    "df_rev.shape"
   ]
  },
  {
   "cell_type": "code",
   "execution_count": 29,
   "metadata": {},
   "outputs": [
    {
     "name": "stdout",
     "output_type": "stream",
     "text": [
      "-68.0\n",
      "180.0\n"
     ]
    }
   ],
   "source": [
    "print(low)  #-68.0\n",
    "print(high) #180.0"
   ]
  },
  {
   "cell_type": "code",
   "execution_count": 30,
   "metadata": {},
   "outputs": [
    {
     "name": "stdout",
     "output_type": "stream",
     "text": [
      "109.91080617495712\n"
     ]
    }
   ],
   "source": [
    "Aspartate_mean=df_rev.Aspartate_Aminotransferase.mean()\n",
    "print(Aspartate_mean)"
   ]
  },
  {
   "cell_type": "code",
   "execution_count": 32,
   "metadata": {},
   "outputs": [],
   "source": [
    "#imputing outlier values with mean value\n",
    "df_exclude.Aspartate_Aminotransferase=Aspartate_mean"
   ]
  },
  {
   "cell_type": "code",
   "execution_count": 33,
   "metadata": {},
   "outputs": [
    {
     "data": {
      "text/plain": [
       "(583, 11)"
      ]
     },
     "execution_count": 33,
     "metadata": {},
     "output_type": "execute_result"
    }
   ],
   "source": [
    "#getting back the original shape of df\n",
    "df_rev=pd.concat([df_include,df_exclude]) #concatenating both dfs to get \n",
    "#the original shape\n",
    "df_rev.shape"
   ]
  },
  {
   "cell_type": "code",
   "execution_count": 34,
   "metadata": {},
   "outputs": [
    {
     "data": {
      "text/plain": [
       "<matplotlib.axes._subplots.AxesSubplot at 0x1bf332a90c8>"
      ]
     },
     "execution_count": 34,
     "metadata": {},
     "output_type": "execute_result"
    },
    {
     "data": {
      "image/png": "[encoded data removed]",
      "text/plain": [
       "<Figure size 432x288 with 1 Axes>"
      ]
     },
     "metadata": {
      "needs_background": "light"
     },
     "output_type": "display_data"
    }
   ],
   "source": [
    "df_rev.boxplot(column='Aspartate_Aminotransferase')"
   ]
  },
  {
   "cell_type": "code",
   "execution_count": 35,
   "metadata": {},
   "outputs": [
    {
     "data": {
      "image/png": "[encoded data removed]",
      "text/plain": [
       "<Figure size 432x288 with 1 Axes>"
      ]
     },
     "metadata": {
      "needs_background": "light"
     },
     "output_type": "display_data"
    },
    {
     "data": {
      "image/png": "[encoded data removed]",
      "text/plain": [
       "<Figure size 432x288 with 1 Axes>"
      ]
     },
     "metadata": {
      "needs_background": "light"
     },
     "output_type": "display_data"
    },
    {
     "data": {
      "image/png": "[encoded data removed]",
      "text/plain": [
       "<Figure size 432x288 with 1 Axes>"
      ]
     },
     "metadata": {
      "needs_background": "light"
     },
     "output_type": "display_data"
    },
    {
     "data": {
      "image/png": "[encoded data removed]",
      "text/plain": [
       "<Figure size 432x288 with 1 Axes>"
      ]
     },
     "metadata": {
      "needs_background": "light"
     },
     "output_type": "display_data"
    },
    {
     "data": {
      "image/png": "[encoded data removed]",
      "text/plain": [
       "<Figure size 432x288 with 1 Axes>"
      ]
     },
     "metadata": {
      "needs_background": "light"
     },
     "output_type": "display_data"
    },
    {
     "data": {
      "image/png": "[encoded data removed]",
      "text/plain": [
       "<Figure size 432x288 with 1 Axes>"
      ]
     },
     "metadata": {
      "needs_background": "light"
     },
     "output_type": "display_data"
    },
    {
     "data": {
      "image/png": "[encoded data removed]",
      "text/plain": [
       "<Figure size 432x288 with 1 Axes>"
      ]
     },
     "metadata": {
      "needs_background": "light"
     },
     "output_type": "display_data"
    },
    {
     "data": {
      "image/png": "[encoded data removed]",
      "text/plain": [
       "<Figure size 432x288 with 1 Axes>"
      ]
     },
     "metadata": {
      "needs_background": "light"
     },
     "output_type": "display_data"
    },
    {
     "data": {
      "image/png": "[encoded data removed]",
      "text/plain": [
       "<Figure size 432x288 with 1 Axes>"
      ]
     },
     "metadata": {
      "needs_background": "light"
     },
     "output_type": "display_data"
    }
   ],
   "source": [
    "#Checking for Outlier ...\n",
    "import matplotlib.pyplot as plt\n",
    "colname=[]\n",
    "for x in df_rev.columns[:-1]:\n",
    "    if df_rev[x].dtype==\"int64\" or df_rev[x].dtype==\"float64\":\n",
    "        colname.append(x)\n",
    "\n",
    "for x in colname:\n",
    "    df_rev.boxplot(column=x)\n",
    "    plt.show()\n",
    "    \n"
   ]
  },
  {
   "cell_type": "markdown",
   "metadata": {},
   "source": [
    "#After Detecting outlier's in other features also need to impute them too....."
   ]
  },
  {
   "cell_type": "code",
   "execution_count": 36,
   "metadata": {},
   "outputs": [
    {
     "data": {
      "text/plain": [
       "Index(['Age', 'Gender', 'Total_Bilirubin', 'Direct_Bilirubin',\n",
       "       'Alkaline_Phosphotase', 'Alamine_Aminotransferase',\n",
       "       'Aspartate_Aminotransferase', 'Total_Protiens', 'Albumin',\n",
       "       'Albumin_and_Globulin_Ratio', 'Class'],\n",
       "      dtype='object')"
      ]
     },
     "execution_count": 36,
     "metadata": {},
     "output_type": "execute_result"
    }
   ],
   "source": [
    "df_rev.columns"
   ]
  },
  {
   "cell_type": "code",
   "execution_count": 37,
   "metadata": {},
   "outputs": [
    {
     "data": {
      "text/plain": [
       "(583, 11)"
      ]
     },
     "execution_count": 37,
     "metadata": {},
     "output_type": "execute_result"
    }
   ],
   "source": [
    "#treating outlier one by one....\n",
    "\n",
    "q1 = df_rev[\"Total_Bilirubin\"].quantile(0.25) #first quartile value\n",
    "q3 = df_rev[\"Total_Bilirubin\"].quantile(0.75) # third quartile value\n",
    "iqr = q3-q1 #Interquartile range\n",
    "low  = q1-1.5*iqr #acceptable range\n",
    "high = q3+1.5*iqr #acceptable range\n",
    "df_include = df_rev.loc[(df_rev[\"Total_Bilirubin\"] >= low) & (df_rev[\"Total_Bilirubin\"] <= high)] # meeting the acceptable range\n",
    "df_exclude = df_rev.loc[(df_rev[\"Total_Bilirubin\"] < low) | (df_rev[\"Total_Bilirubin\"] > high)] #not meeting the acceptable range\n",
    "x_mean=df_rev.Total_Bilirubin.mean()\n",
    "#getting back the original shape of df\n",
    "df_rev=pd.concat([df_include,df_exclude]) #concatenating both dfs to get \n",
    "\n",
    "\n",
    "#imputing outlier values with mean value\n",
    "df_exclude.Total_Bilirubin=x_mean\n",
    "\n",
    "#getting back the original shape of df\n",
    "df_rev=pd.concat([df_include,df_exclude]) #concatenating both dfs to get \n",
    "#the original shape\n",
    "df_rev.shape"
   ]
  },
  {
   "cell_type": "code",
   "execution_count": 38,
   "metadata": {},
   "outputs": [
    {
     "data": {
      "text/plain": [
       "(583, 11)"
      ]
     },
     "execution_count": 38,
     "metadata": {},
     "output_type": "execute_result"
    }
   ],
   "source": [
    "#treating outlier :Alkaline_Phosphotase\n",
    "\n",
    "\n",
    "q1 = df_rev[\"Alkaline_Phosphotase\"].quantile(0.25) #first quartile value\n",
    "q3 = df_rev[\"Alkaline_Phosphotase\"].quantile(0.75) # third quartile value\n",
    "iqr = q3-q1 #Interquartile range\n",
    "low  = q1-1.5*iqr #acceptable range\n",
    "high = q3+1.5*iqr #acceptable range\n",
    "df_include = df_rev.loc[(df_rev[\"Alkaline_Phosphotase\"] >= low) & (df_rev[\"Alkaline_Phosphotase\"] <= high)] # meeting the acceptable range\n",
    "df_exclude = df_rev.loc[(df_rev[\"Alkaline_Phosphotase\"] < low) | (df_rev[\"Alkaline_Phosphotase\"] > high)] #not meeting the acceptable range\n",
    "x_mean=df_rev.Alkaline_Phosphotase.mean()\n",
    "#getting back the original shape of df\n",
    "df_rev=pd.concat([df_include,df_exclude]) #concatenating both dfs to get \n",
    "\n",
    "#imputing outlier values with mean value\n",
    "df_exclude.Alkaline_Phosphotase=x_mean\n",
    "\n",
    "#getting back the original shape of df\n",
    "df_rev=pd.concat([df_include,df_exclude]) #concatenating both dfs to get \n",
    "#the original shape\n",
    "df_rev.shape"
   ]
  },
  {
   "cell_type": "code",
   "execution_count": 39,
   "metadata": {},
   "outputs": [
    {
     "data": {
      "text/plain": [
       "(583, 11)"
      ]
     },
     "execution_count": 39,
     "metadata": {},
     "output_type": "execute_result"
    }
   ],
   "source": [
    "#treating outlier :Alamine_Aminotransferase\n",
    "\n",
    "\n",
    "q1 = df_rev[\"Alamine_Aminotransferase\"].quantile(0.25) #first quartile value\n",
    "q3 = df_rev[\"Alamine_Aminotransferase\"].quantile(0.75) # third quartile value\n",
    "iqr = q3-q1 #Interquartile range\n",
    "low  = q1-1.5*iqr #acceptable range\n",
    "high = q3+1.5*iqr #acceptable range\n",
    "df_include = df_rev.loc[(df_rev[\"Alamine_Aminotransferase\"] >= low) & (df_rev[\"Alamine_Aminotransferase\"] <= high)] # meeting the acceptable range\n",
    "df_exclude = df_rev.loc[(df_rev[\"Alamine_Aminotransferase\"] < low) | (df_rev[\"Alamine_Aminotransferase\"] > high)] #not meeting the acceptable range\n",
    "x_mean=df_rev.Alamine_Aminotransferase.mean()\n",
    "#getting back the original shape of df\n",
    "df_rev=pd.concat([df_include,df_exclude]) #concatenating both dfs to get \n",
    "\n",
    "#imputing outlier values with mean value\n",
    "df_exclude.Alamine_Aminotransferase=x_mean\n",
    "\n",
    "#getting back the original shape of df\n",
    "df_rev=pd.concat([df_include,df_exclude]) #concatenating both dfs to get \n",
    "#the original shape\n",
    "df_rev.shape"
   ]
  },
  {
   "cell_type": "code",
   "execution_count": 40,
   "metadata": {},
   "outputs": [
    {
     "data": {
      "text/plain": [
       "(583, 11)"
      ]
     },
     "execution_count": 40,
     "metadata": {},
     "output_type": "execute_result"
    }
   ],
   "source": [
    "#treating outlier :Albumin_and_Globulin_Ratio\n",
    "\n",
    "\n",
    "q1 = df_rev[\"Albumin_and_Globulin_Ratio\"].quantile(0.25) #first quartile value\n",
    "q3 = df_rev[\"Albumin_and_Globulin_Ratio\"].quantile(0.75) # third quartile value\n",
    "iqr = q3-q1 #Interquartile range\n",
    "low  = q1-1.5*iqr #acceptable range\n",
    "high = q3+1.5*iqr #acceptable range\n",
    "df_include = df_rev.loc[(df_rev[\"Albumin_and_Globulin_Ratio\"] >= low) & (df_rev[\"Albumin_and_Globulin_Ratio\"] <= high)] # meeting the acceptable range\n",
    "df_exclude = df_rev.loc[(df_rev[\"Albumin_and_Globulin_Ratio\"] < low) | (df_rev[\"Albumin_and_Globulin_Ratio\"] > high)] #not meeting the acceptable range\n",
    "x_mean=df_rev.Albumin_and_Globulin_Ratio.mean()\n",
    "#getting back the original shape of df\n",
    "df_rev=pd.concat([df_include,df_exclude]) #concatenating both dfs to get \n",
    "\n",
    "#imputing outlier values with mean value\n",
    "df_exclude.Albumin_and_Globulin_Ratio=x_mean\n",
    "\n",
    "#getting back the original shape of df\n",
    "df_rev=pd.concat([df_include,df_exclude]) #concatenating both dfs to get \n",
    "#the original shape\n",
    "df_rev.shape"
   ]
  },
  {
   "cell_type": "code",
   "execution_count": 43,
   "metadata": {},
   "outputs": [
    {
     "data": {
      "text/plain": [
       "(583, 11)"
      ]
     },
     "execution_count": 43,
     "metadata": {},
     "output_type": "execute_result"
    }
   ],
   "source": [
    "#treating outlier :Total_Protiens\n",
    "\n",
    "\n",
    "q1 = df_rev[\"Total_Protiens\"].quantile(0.25) #first quartile value\n",
    "q3 = df_rev[\"Total_Protiens\"].quantile(0.75) # third quartile value\n",
    "iqr = q3-q1 #Interquartile range\n",
    "low  = q1-1.5*iqr #acceptable range\n",
    "high = q3+1.5*iqr #acceptable range\n",
    "df_include = df_rev.loc[(df_rev[\"Total_Protiens\"] >= low) & (df_rev[\"Total_Protiens\"] <= high)] # meeting the acceptable range\n",
    "df_exclude = df_rev.loc[(df_rev[\"Total_Protiens\"] < low) | (df_rev[\"Total_Protiens\"] > high)] #not meeting the acceptable range\n",
    "x_mean=df_rev.Albumin_and_Globulin_Ratio.mean()\n",
    "#getting back the original shape of df\n",
    "df_rev=pd.concat([df_include,df_exclude]) #concatenating both dfs to get \n",
    "\n",
    "#imputing outlier values with mean value\n",
    "df_exclude.Total_Protiens=x_mean\n",
    "\n",
    "#getting back the original shape of df\n",
    "df_rev=pd.concat([df_include,df_exclude]) #concatenating both dfs to get \n",
    "#the original shape\n",
    "df_rev.shape"
   ]
  },
  {
   "cell_type": "code",
   "execution_count": 44,
   "metadata": {},
   "outputs": [
    {
     "data": {
      "image/png": "[encoded data removed]",
      "text/plain": [
       "<Figure size 432x288 with 1 Axes>"
      ]
     },
     "metadata": {
      "needs_background": "light"
     },
     "output_type": "display_data"
    },
    {
     "data": {
      "image/png": "[encoded data removed]",
      "text/plain": [
       "<Figure size 432x288 with 1 Axes>"
      ]
     },
     "metadata": {
      "needs_background": "light"
     },
     "output_type": "display_data"
    },
    {
     "data": {
      "image/png": "[encoded data removed]",
      "text/plain": [
       "<Figure size 432x288 with 1 Axes>"
      ]
     },
     "metadata": {
      "needs_background": "light"
     },
     "output_type": "display_data"
    },
    {
     "data": {
      "image/png": "[encoded data removed]",
      "text/plain": [
       "<Figure size 432x288 with 1 Axes>"
      ]
     },
     "metadata": {
      "needs_background": "light"
     },
     "output_type": "display_data"
    },
    {
     "data": {
      "image/png": "[encoded data removed]",
      "text/plain": [
       "<Figure size 432x288 with 1 Axes>"
      ]
     },
     "metadata": {
      "needs_background": "light"
     },
     "output_type": "display_data"
    },
    {
     "data": {
      "image/png": "[encoded data removed]",
      "text/plain": [
       "<Figure size 432x288 with 1 Axes>"
      ]
     },
     "metadata": {
      "needs_background": "light"
     },
     "output_type": "display_data"
    },
    {
     "data": {
      "image/png": "[encoded data removed]",
      "text/plain": [
       "<Figure size 432x288 with 1 Axes>"
      ]
     },
     "metadata": {
      "needs_background": "light"
     },
     "output_type": "display_data"
    },
    {
     "data": {
      "image/png": "[encoded data removed]",
      "text/plain": [
       "<Figure size 432x288 with 1 Axes>"
      ]
     },
     "metadata": {
      "needs_background": "light"
     },
     "output_type": "display_data"
    },
    {
     "data": {
      "image/png": "[encoded data removed]",
      "text/plain": [
       "<Figure size 432x288 with 1 Axes>"
      ]
     },
     "metadata": {
      "needs_background": "light"
     },
     "output_type": "display_data"
    }
   ],
   "source": [
    "#Generc coe for Outlier detection...\n",
    "import matplotlib.pyplot as plt\n",
    "colname=[]\n",
    "for x in df_rev.columns[:-1]:\n",
    "    if df_rev[x].dtype==\"int64\" or df_rev[x].dtype==\"float64\":\n",
    "        colname.append(x)\n",
    "\n",
    "for x in colname:\n",
    "    df_rev.boxplot(column=x)\n",
    "    plt.show()\n",
    "    "
   ]
  },
  {
   "cell_type": "code",
   "execution_count": 45,
   "metadata": {},
   "outputs": [
    {
     "data": {
      "text/html": [
       "<div>\n",
       "<style scoped>\n",
       "    .dataframe tbody tr th:only-of-type {\n",
       "        vertical-align: middle;\n",
       "    }\n",
       "\n",
       "    .dataframe tbody tr th {\n",
       "        vertical-align: top;\n",
       "    }\n",
       "\n",
       "    .dataframe thead th {\n",
       "        text-align: right;\n",
       "    }\n",
       "</style>\n",
       "<table border=\"1\" class=\"dataframe\">\n",
       "  <thead>\n",
       "    <tr style=\"text-align: right;\">\n",
       "      <th></th>\n",
       "      <th>Age</th>\n",
       "      <th>Gender</th>\n",
       "      <th>Total_Bilirubin</th>\n",
       "      <th>Direct_Bilirubin</th>\n",
       "      <th>Alkaline_Phosphotase</th>\n",
       "      <th>Alamine_Aminotransferase</th>\n",
       "      <th>Aspartate_Aminotransferase</th>\n",
       "      <th>Total_Protiens</th>\n",
       "      <th>Albumin</th>\n",
       "      <th>Albumin_and_Globulin_Ratio</th>\n",
       "      <th>Class</th>\n",
       "    </tr>\n",
       "    <tr>\n",
       "      <th>0</th>\n",
       "      <th></th>\n",
       "      <th></th>\n",
       "      <th></th>\n",
       "      <th></th>\n",
       "      <th></th>\n",
       "      <th></th>\n",
       "      <th></th>\n",
       "      <th></th>\n",
       "      <th></th>\n",
       "      <th></th>\n",
       "      <th></th>\n",
       "    </tr>\n",
       "  </thead>\n",
       "  <tbody>\n",
       "    <tr>\n",
       "      <td>1</td>\n",
       "      <td>65</td>\n",
       "      <td>Female</td>\n",
       "      <td>0.7</td>\n",
       "      <td>0.1</td>\n",
       "      <td>187.0</td>\n",
       "      <td>16.0</td>\n",
       "      <td>18.0</td>\n",
       "      <td>6.8</td>\n",
       "      <td>3.3</td>\n",
       "      <td>0.9</td>\n",
       "      <td>No</td>\n",
       "    </tr>\n",
       "    <tr>\n",
       "      <td>4</td>\n",
       "      <td>58</td>\n",
       "      <td>Male</td>\n",
       "      <td>1.0</td>\n",
       "      <td>0.4</td>\n",
       "      <td>182.0</td>\n",
       "      <td>14.0</td>\n",
       "      <td>20.0</td>\n",
       "      <td>6.8</td>\n",
       "      <td>3.4</td>\n",
       "      <td>1.0</td>\n",
       "      <td>No</td>\n",
       "    </tr>\n",
       "    <tr>\n",
       "      <td>5</td>\n",
       "      <td>72</td>\n",
       "      <td>Male</td>\n",
       "      <td>3.9</td>\n",
       "      <td>2.0</td>\n",
       "      <td>195.0</td>\n",
       "      <td>27.0</td>\n",
       "      <td>59.0</td>\n",
       "      <td>7.3</td>\n",
       "      <td>2.4</td>\n",
       "      <td>0.4</td>\n",
       "      <td>No</td>\n",
       "    </tr>\n",
       "    <tr>\n",
       "      <td>6</td>\n",
       "      <td>46</td>\n",
       "      <td>Male</td>\n",
       "      <td>1.8</td>\n",
       "      <td>0.7</td>\n",
       "      <td>208.0</td>\n",
       "      <td>19.0</td>\n",
       "      <td>14.0</td>\n",
       "      <td>7.6</td>\n",
       "      <td>4.4</td>\n",
       "      <td>1.3</td>\n",
       "      <td>No</td>\n",
       "    </tr>\n",
       "    <tr>\n",
       "      <td>7</td>\n",
       "      <td>26</td>\n",
       "      <td>Female</td>\n",
       "      <td>0.9</td>\n",
       "      <td>0.2</td>\n",
       "      <td>154.0</td>\n",
       "      <td>16.0</td>\n",
       "      <td>12.0</td>\n",
       "      <td>7.0</td>\n",
       "      <td>3.5</td>\n",
       "      <td>1.0</td>\n",
       "      <td>No</td>\n",
       "    </tr>\n",
       "  </tbody>\n",
       "</table>\n",
       "</div>"
      ],
      "text/plain": [
       "   Age  Gender  Total_Bilirubin  Direct_Bilirubin  Alkaline_Phosphotase  \\\n",
       "0                                                                         \n",
       "1   65  Female              0.7               0.1                 187.0   \n",
       "4   58    Male              1.0               0.4                 182.0   \n",
       "5   72    Male              3.9               2.0                 195.0   \n",
       "6   46    Male              1.8               0.7                 208.0   \n",
       "7   26  Female              0.9               0.2                 154.0   \n",
       "\n",
       "   Alamine_Aminotransferase  Aspartate_Aminotransferase  Total_Protiens  \\\n",
       "0                                                                         \n",
       "1                      16.0                        18.0             6.8   \n",
       "4                      14.0                        20.0             6.8   \n",
       "5                      27.0                        59.0             7.3   \n",
       "6                      19.0                        14.0             7.6   \n",
       "7                      16.0                        12.0             7.0   \n",
       "\n",
       "   Albumin  Albumin_and_Globulin_Ratio Class  \n",
       "0                                             \n",
       "1      3.3                         0.9    No  \n",
       "4      3.4                         1.0    No  \n",
       "5      2.4                         0.4    No  \n",
       "6      4.4                         1.3    No  \n",
       "7      3.5                         1.0    No  "
      ]
     },
     "execution_count": 45,
     "metadata": {},
     "output_type": "execute_result"
    }
   ],
   "source": [
    "df_rev.head()"
   ]
  },
  {
   "cell_type": "code",
   "execution_count": 48,
   "metadata": {},
   "outputs": [
    {
     "data": {
      "text/plain": [
       "Age                             int64\n",
       "Gender                         object\n",
       "Total_Bilirubin               float64\n",
       "Direct_Bilirubin              float64\n",
       "Alkaline_Phosphotase          float64\n",
       "Alamine_Aminotransferase      float64\n",
       "Aspartate_Aminotransferase    float64\n",
       "Total_Protiens                float64\n",
       "Albumin                       float64\n",
       "Albumin_and_Globulin_Ratio    float64\n",
       "Class                          object\n",
       "dtype: object"
      ]
     },
     "execution_count": 48,
     "metadata": {},
     "output_type": "execute_result"
    }
   ],
   "source": [
    "df_rev.dtypes"
   ]
  },
  {
   "cell_type": "markdown",
   "metadata": {},
   "source": [
    "# Label Encoder i.e converting categorical to numberical"
   ]
  },
  {
   "cell_type": "code",
   "execution_count": 49,
   "metadata": {},
   "outputs": [
    {
     "data": {
      "text/plain": [
       "['Gender', 'Class']"
      ]
     },
     "execution_count": 49,
     "metadata": {},
     "output_type": "execute_result"
    }
   ],
   "source": [
    "colname=[]\n",
    "for x in df_rev.columns:\n",
    "    if df_rev[x].dtype=='object':\n",
    "        colname.append(x)\n",
    "        \n",
    "colname "
   ]
  },
  {
   "cell_type": "code",
   "execution_count": 50,
   "metadata": {},
   "outputs": [],
   "source": [
    "from sklearn import preprocessing\n",
    "\n",
    "le=preprocessing.LabelEncoder()\n",
    "\n",
    "for x in colname:\n",
    "    df_rev[x]=le.fit_transform(df_rev[x])\n"
   ]
  },
  {
   "cell_type": "code",
   "execution_count": 52,
   "metadata": {},
   "outputs": [
    {
     "data": {
      "text/html": [
       "<div>\n",
       "<style scoped>\n",
       "    .dataframe tbody tr th:only-of-type {\n",
       "        vertical-align: middle;\n",
       "    }\n",
       "\n",
       "    .dataframe tbody tr th {\n",
       "        vertical-align: top;\n",
       "    }\n",
       "\n",
       "    .dataframe thead th {\n",
       "        text-align: right;\n",
       "    }\n",
       "</style>\n",
       "<table border=\"1\" class=\"dataframe\">\n",
       "  <thead>\n",
       "    <tr style=\"text-align: right;\">\n",
       "      <th></th>\n",
       "      <th>Age</th>\n",
       "      <th>Gender</th>\n",
       "      <th>Total_Bilirubin</th>\n",
       "      <th>Direct_Bilirubin</th>\n",
       "      <th>Alkaline_Phosphotase</th>\n",
       "      <th>Alamine_Aminotransferase</th>\n",
       "      <th>Aspartate_Aminotransferase</th>\n",
       "      <th>Total_Protiens</th>\n",
       "      <th>Albumin</th>\n",
       "      <th>Albumin_and_Globulin_Ratio</th>\n",
       "      <th>Class</th>\n",
       "    </tr>\n",
       "    <tr>\n",
       "      <th>0</th>\n",
       "      <th></th>\n",
       "      <th></th>\n",
       "      <th></th>\n",
       "      <th></th>\n",
       "      <th></th>\n",
       "      <th></th>\n",
       "      <th></th>\n",
       "      <th></th>\n",
       "      <th></th>\n",
       "      <th></th>\n",
       "      <th></th>\n",
       "    </tr>\n",
       "  </thead>\n",
       "  <tbody>\n",
       "    <tr>\n",
       "      <td>1</td>\n",
       "      <td>65</td>\n",
       "      <td>0</td>\n",
       "      <td>0.7</td>\n",
       "      <td>0.1</td>\n",
       "      <td>187.0</td>\n",
       "      <td>16.0</td>\n",
       "      <td>18.0</td>\n",
       "      <td>6.8</td>\n",
       "      <td>3.3</td>\n",
       "      <td>0.9</td>\n",
       "      <td>0</td>\n",
       "    </tr>\n",
       "    <tr>\n",
       "      <td>4</td>\n",
       "      <td>58</td>\n",
       "      <td>1</td>\n",
       "      <td>1.0</td>\n",
       "      <td>0.4</td>\n",
       "      <td>182.0</td>\n",
       "      <td>14.0</td>\n",
       "      <td>20.0</td>\n",
       "      <td>6.8</td>\n",
       "      <td>3.4</td>\n",
       "      <td>1.0</td>\n",
       "      <td>0</td>\n",
       "    </tr>\n",
       "    <tr>\n",
       "      <td>5</td>\n",
       "      <td>72</td>\n",
       "      <td>1</td>\n",
       "      <td>3.9</td>\n",
       "      <td>2.0</td>\n",
       "      <td>195.0</td>\n",
       "      <td>27.0</td>\n",
       "      <td>59.0</td>\n",
       "      <td>7.3</td>\n",
       "      <td>2.4</td>\n",
       "      <td>0.4</td>\n",
       "      <td>0</td>\n",
       "    </tr>\n",
       "    <tr>\n",
       "      <td>6</td>\n",
       "      <td>46</td>\n",
       "      <td>1</td>\n",
       "      <td>1.8</td>\n",
       "      <td>0.7</td>\n",
       "      <td>208.0</td>\n",
       "      <td>19.0</td>\n",
       "      <td>14.0</td>\n",
       "      <td>7.6</td>\n",
       "      <td>4.4</td>\n",
       "      <td>1.3</td>\n",
       "      <td>0</td>\n",
       "    </tr>\n",
       "    <tr>\n",
       "      <td>7</td>\n",
       "      <td>26</td>\n",
       "      <td>0</td>\n",
       "      <td>0.9</td>\n",
       "      <td>0.2</td>\n",
       "      <td>154.0</td>\n",
       "      <td>16.0</td>\n",
       "      <td>12.0</td>\n",
       "      <td>7.0</td>\n",
       "      <td>3.5</td>\n",
       "      <td>1.0</td>\n",
       "      <td>0</td>\n",
       "    </tr>\n",
       "  </tbody>\n",
       "</table>\n",
       "</div>"
      ],
      "text/plain": [
       "   Age  Gender  Total_Bilirubin  Direct_Bilirubin  Alkaline_Phosphotase  \\\n",
       "0                                                                         \n",
       "1   65       0              0.7               0.1                 187.0   \n",
       "4   58       1              1.0               0.4                 182.0   \n",
       "5   72       1              3.9               2.0                 195.0   \n",
       "6   46       1              1.8               0.7                 208.0   \n",
       "7   26       0              0.9               0.2                 154.0   \n",
       "\n",
       "   Alamine_Aminotransferase  Aspartate_Aminotransferase  Total_Protiens  \\\n",
       "0                                                                         \n",
       "1                      16.0                        18.0             6.8   \n",
       "4                      14.0                        20.0             6.8   \n",
       "5                      27.0                        59.0             7.3   \n",
       "6                      19.0                        14.0             7.6   \n",
       "7                      16.0                        12.0             7.0   \n",
       "\n",
       "   Albumin  Albumin_and_Globulin_Ratio  Class  \n",
       "0                                              \n",
       "1      3.3                         0.9      0  \n",
       "4      3.4                         1.0      0  \n",
       "5      2.4                         0.4      0  \n",
       "6      4.4                         1.3      0  \n",
       "7      3.5                         1.0      0  "
      ]
     },
     "execution_count": 52,
     "metadata": {},
     "output_type": "execute_result"
    }
   ],
   "source": [
    "df_rev.head()\n",
    "#Gender :Female--->0\n",
    "        #Male----->1\n",
    "    \n",
    "#Class:No--->0\n",
    "    #:Yes---->1"
   ]
  },
  {
   "cell_type": "markdown",
   "metadata": {},
   "source": [
    "# Spliting into X and Y"
   ]
  },
  {
   "cell_type": "code",
   "execution_count": 55,
   "metadata": {},
   "outputs": [],
   "source": [
    "X=df_rev.iloc[:,0:-1]  #Datafame to array  all col rest last one\n",
    "Y=df_rev.iloc[:,-1]  # Datafame to array   and only last col"
   ]
  },
  {
   "cell_type": "code",
   "execution_count": 58,
   "metadata": {},
   "outputs": [
    {
     "data": {
      "text/plain": [
       "(583,)"
      ]
     },
     "execution_count": 58,
     "metadata": {},
     "output_type": "execute_result"
    }
   ],
   "source": [
    "#check for shape\n",
    "X.shape  #(583, 10)\n",
    "Y.shape  #(583,)"
   ]
  },
  {
   "cell_type": "code",
   "execution_count": 60,
   "metadata": {},
   "outputs": [],
   "source": [
    "Y=Y.astype(int)"
   ]
  },
  {
   "cell_type": "markdown",
   "metadata": {},
   "source": [
    "Actually Scaling not required but then Gender and Class(dependent) varialbe will consider less significance so....will do scaling"
   ]
  },
  {
   "cell_type": "code",
   "execution_count": 59,
   "metadata": {},
   "outputs": [
    {
     "name": "stdout",
     "output_type": "stream",
     "text": [
      "[[ 1.25209764 -1.76228085 -0.8256188  ...  0.3097939   0.19896867\n",
      "  -0.10090146]\n",
      " [ 0.81935624  0.56744644 -0.56017587 ...  0.3097939   0.32478075\n",
      "   0.25803399]\n",
      " [ 1.68483904  0.56744644  2.0057725  ...  0.72939636 -0.93334003\n",
      "  -1.89557876]\n",
      " ...\n",
      " [-1.15889017  0.56744644  1.47382425 ... -4.61792396 -2.82052119\n",
      "  -2.25451421]\n",
      " [ 1.56119864  0.56744644 -0.29473293 ... -4.61792396 -0.55590379\n",
      "  -0.81877238]\n",
      " [ 0.07751384 -1.76228085 -0.20625196 ... -4.61792396 -2.69470911\n",
      "  -2.25451421]]\n"
     ]
    }
   ],
   "source": [
    "from sklearn.preprocessing import StandardScaler\n",
    "\n",
    "scaler=StandardScaler()\n",
    "\n",
    "scaler.fit(X)\n",
    "\n",
    "X=scaler.transform(X)\n",
    "print(X)"
   ]
  },
  {
   "cell_type": "code",
   "execution_count": 61,
   "metadata": {},
   "outputs": [],
   "source": [
    "from sklearn.model_selection import train_test_split\n",
    "\n",
    "#sSplit the data into test an train\n",
    "X_train,X_test,Y_train,Y_test=train_test_split(X,Y,test_size=0.3,random_state=10)"
   ]
  },
  {
   "cell_type": "markdown",
   "metadata": {},
   "source": [
    "# LogisticRegression"
   ]
  },
  {
   "cell_type": "code",
   "execution_count": 62,
   "metadata": {},
   "outputs": [
    {
     "name": "stdout",
     "output_type": "stream",
     "text": [
      "[[110   7]\n",
      " [ 48  10]]\n",
      "Classification report:\n",
      "              precision    recall  f1-score   support\n",
      "\n",
      "           0       0.70      0.94      0.80       117\n",
      "           1       0.59      0.17      0.27        58\n",
      "\n",
      "    accuracy                           0.69       175\n",
      "   macro avg       0.64      0.56      0.53       175\n",
      "weighted avg       0.66      0.69      0.62       175\n",
      "\n",
      "Accuracy of the Model: 68.57142857142857\n"
     ]
    }
   ],
   "source": [
    "from sklearn.linear_model import LogisticRegression\n",
    "\n",
    "#create a model object\n",
    "classifier=LogisticRegression()\n",
    "\n",
    "#fitting training data to model\n",
    "classifier.fit(X_train,Y_train)\n",
    "\n",
    "Y_pred=classifier.predict(X_test)\n",
    "\n",
    "from sklearn.metrics import confusion_matrix,accuracy_score,classification_report\n",
    "\n",
    "cfm=confusion_matrix(Y_test,Y_pred)\n",
    "print(cfm)    #Accuracy=68.57\n",
    "\n",
    "print(\"Classification report:\")\n",
    "\n",
    "print(classification_report(Y_test,Y_pred))\n",
    "\n",
    "acc=accuracy_score(Y_test,Y_pred)\n",
    "print(\"Accuracy of the Model:\",acc*100)\n",
    "\n",
    "####Accuracy :  0.6857\n",
    "####Recall   :  0.94 --->0\n",
    "####            0.17 --->1"
   ]
  },
  {
   "cell_type": "markdown",
   "metadata": {},
   "source": [
    "Adjusting Threashold"
   ]
  },
  {
   "cell_type": "code",
   "execution_count": 63,
   "metadata": {},
   "outputs": [
    {
     "name": "stdout",
     "output_type": "stream",
     "text": [
      "[[8.67919404e-01 1.32080596e-01]\n",
      " [9.69360118e-01 3.06398818e-02]\n",
      " [5.66040293e-01 4.33959707e-01]\n",
      " [6.94917098e-01 3.05082902e-01]\n",
      " [7.23193862e-01 2.76806138e-01]\n",
      " [5.54033607e-01 4.45966393e-01]\n",
      " [6.56689240e-01 3.43310760e-01]\n",
      " [8.09191210e-01 1.90808790e-01]\n",
      " [9.07541748e-01 9.24582515e-02]\n",
      " [8.05921376e-01 1.94078624e-01]\n",
      " [7.47864265e-01 2.52135735e-01]\n",
      " [5.87554660e-01 4.12445340e-01]\n",
      " [9.98057023e-01 1.94297710e-03]\n",
      " [7.53291184e-01 2.46708816e-01]\n",
      " [9.82143119e-01 1.78568808e-02]\n",
      " [9.95030907e-01 4.96909338e-03]\n",
      " [6.04352308e-01 3.95647692e-01]\n",
      " [8.34200662e-01 1.65799338e-01]\n",
      " [6.53775446e-01 3.46224554e-01]\n",
      " [9.95892348e-01 4.10765215e-03]\n",
      " [9.48563804e-01 5.14361959e-02]\n",
      " [5.72112784e-01 4.27887216e-01]\n",
      " [6.84448742e-01 3.15551258e-01]\n",
      " [6.73962136e-01 3.26037864e-01]\n",
      " [7.41350629e-01 2.58649371e-01]\n",
      " [9.95712703e-01 4.28729667e-03]\n",
      " [5.66389485e-01 4.33610515e-01]\n",
      " [9.04416841e-01 9.55831594e-02]\n",
      " [9.58025296e-01 4.19747041e-02]\n",
      " [5.59144536e-01 4.40855464e-01]\n",
      " [4.64149557e-01 5.35850443e-01]\n",
      " [8.68727000e-01 1.31273000e-01]\n",
      " [5.33684934e-01 4.66315066e-01]\n",
      " [5.74525609e-01 4.25474391e-01]\n",
      " [9.61484137e-01 3.85158628e-02]\n",
      " [9.48638313e-01 5.13616868e-02]\n",
      " [6.41732660e-01 3.58267340e-01]\n",
      " [4.82875956e-01 5.17124044e-01]\n",
      " [5.12745713e-01 4.87254287e-01]\n",
      " [9.45550281e-01 5.44497187e-02]\n",
      " [8.61902437e-01 1.38097563e-01]\n",
      " [4.63138059e-01 5.36861941e-01]\n",
      " [6.61283736e-01 3.38716264e-01]\n",
      " [7.76801547e-01 2.23198453e-01]\n",
      " [6.62795159e-01 3.37204841e-01]\n",
      " [6.05655476e-01 3.94344524e-01]\n",
      " [9.84422438e-01 1.55775625e-02]\n",
      " [4.97633480e-01 5.02366520e-01]\n",
      " [6.39311135e-01 3.60688865e-01]\n",
      " [6.29587336e-01 3.70412664e-01]\n",
      " [4.54804167e-01 5.45195833e-01]\n",
      " [8.48224400e-01 1.51775600e-01]\n",
      " [4.87737803e-01 5.12262197e-01]\n",
      " [6.54847606e-01 3.45152394e-01]\n",
      " [9.47865637e-01 5.21343635e-02]\n",
      " [8.98554223e-01 1.01445777e-01]\n",
      " [7.33893910e-01 2.66106090e-01]\n",
      " [9.72909657e-01 2.70903435e-02]\n",
      " [8.07263915e-01 1.92736085e-01]\n",
      " [5.60561430e-01 4.39438570e-01]\n",
      " [8.27229616e-01 1.72770384e-01]\n",
      " [9.15607971e-01 8.43920292e-02]\n",
      " [7.77102991e-01 2.22897009e-01]\n",
      " [8.83158932e-01 1.16841068e-01]\n",
      " [9.17373005e-01 8.26269945e-02]\n",
      " [7.78796918e-01 2.21203082e-01]\n",
      " [6.65893455e-01 3.34106545e-01]\n",
      " [6.60264193e-01 3.39735807e-01]\n",
      " [4.35675524e-01 5.64324476e-01]\n",
      " [9.82938773e-01 1.70612265e-02]\n",
      " [9.15598985e-01 8.44010152e-02]\n",
      " [9.15769833e-01 8.42301667e-02]\n",
      " [8.64350173e-01 1.35649827e-01]\n",
      " [6.01947969e-01 3.98052031e-01]\n",
      " [5.64620340e-01 4.35379660e-01]\n",
      " [9.97941354e-01 2.05864637e-03]\n",
      " [7.75204335e-01 2.24795665e-01]\n",
      " [5.04898155e-01 4.95101845e-01]\n",
      " [8.63323334e-01 1.36676666e-01]\n",
      " [4.95329585e-01 5.04670415e-01]\n",
      " [6.44266095e-01 3.55733905e-01]\n",
      " [7.87956449e-01 2.12043551e-01]\n",
      " [8.91465414e-01 1.08534586e-01]\n",
      " [9.90130159e-01 9.86984100e-03]\n",
      " [6.22612050e-01 3.77387950e-01]\n",
      " [5.92917527e-01 4.07082473e-01]\n",
      " [9.76763933e-01 2.32360672e-02]\n",
      " [5.95780455e-01 4.04219545e-01]\n",
      " [9.80208922e-01 1.97910782e-02]\n",
      " [5.94723306e-01 4.05276694e-01]\n",
      " [9.13373208e-01 8.66267916e-02]\n",
      " [9.63908156e-01 3.60918439e-02]\n",
      " [3.77190963e-01 6.22809037e-01]\n",
      " [9.14448512e-01 8.55514880e-02]\n",
      " [8.09412756e-01 1.90587244e-01]\n",
      " [4.68731066e-01 5.31268934e-01]\n",
      " [8.93233124e-01 1.06766876e-01]\n",
      " [7.37794715e-01 2.62205285e-01]\n",
      " [6.31659693e-01 3.68340307e-01]\n",
      " [7.20539948e-01 2.79460052e-01]\n",
      " [9.70059454e-01 2.99405457e-02]\n",
      " [5.99232570e-01 4.00767430e-01]\n",
      " [9.89179913e-01 1.08200873e-02]\n",
      " [9.02363117e-01 9.76368828e-02]\n",
      " [7.54650442e-01 2.45349558e-01]\n",
      " [4.31362915e-01 5.68637085e-01]\n",
      " [9.41387067e-01 5.86129330e-02]\n",
      " [6.12146139e-01 3.87853861e-01]\n",
      " [5.54531706e-01 4.45468294e-01]\n",
      " [9.99564741e-01 4.35258940e-04]\n",
      " [4.50367863e-01 5.49632137e-01]\n",
      " [7.94088805e-01 2.05911195e-01]\n",
      " [6.33966928e-01 3.66033072e-01]\n",
      " [7.99617387e-01 2.00382613e-01]\n",
      " [5.95444428e-01 4.04555572e-01]\n",
      " [7.10651805e-01 2.89348195e-01]\n",
      " [6.21005108e-01 3.78994892e-01]\n",
      " [7.24996881e-01 2.75003119e-01]\n",
      " [6.29928692e-01 3.70071308e-01]\n",
      " [9.21318064e-01 7.86819356e-02]\n",
      " [5.66745138e-01 4.33254862e-01]\n",
      " [9.66851699e-01 3.31483009e-02]\n",
      " [7.57185799e-01 2.42814201e-01]\n",
      " [9.48271853e-01 5.17281474e-02]\n",
      " [3.56441647e-01 6.43558353e-01]\n",
      " [8.54205458e-01 1.45794542e-01]\n",
      " [7.62381356e-01 2.37618644e-01]\n",
      " [6.52816485e-01 3.47183515e-01]\n",
      " [4.57592437e-01 5.42407563e-01]\n",
      " [9.44658120e-01 5.53418797e-02]\n",
      " [9.84087149e-01 1.59128509e-02]\n",
      " [8.91465414e-01 1.08534586e-01]\n",
      " [7.95413302e-01 2.04586698e-01]\n",
      " [6.51190457e-01 3.48809543e-01]\n",
      " [8.27942491e-01 1.72057509e-01]\n",
      " [6.30732637e-01 3.69267363e-01]\n",
      " [5.15047814e-01 4.84952186e-01]\n",
      " [9.35318822e-01 6.46811779e-02]\n",
      " [9.89757757e-01 1.02422427e-02]\n",
      " [7.36129626e-01 2.63870374e-01]\n",
      " [8.25373174e-01 1.74626826e-01]\n",
      " [5.34475778e-01 4.65524222e-01]\n",
      " [5.10986140e-01 4.89013860e-01]\n",
      " [7.28419248e-01 2.71580752e-01]\n",
      " [6.49006491e-01 3.50993509e-01]\n",
      " [6.74079731e-01 3.25920269e-01]\n",
      " [9.30738136e-01 6.92618644e-02]\n",
      " [5.91667541e-01 4.08332459e-01]\n",
      " [3.11269619e-01 6.88730381e-01]\n",
      " [8.32678897e-01 1.67321103e-01]\n",
      " [9.72067412e-01 2.79325879e-02]\n",
      " [3.85109663e-01 6.14890337e-01]\n",
      " [5.56932045e-01 4.43067955e-01]\n",
      " [6.97573739e-01 3.02426261e-01]\n",
      " [8.89751088e-01 1.10248912e-01]\n",
      " [8.11171129e-01 1.88828871e-01]\n",
      " [7.45584790e-01 2.54415210e-01]\n",
      " [6.52343759e-01 3.47656241e-01]\n",
      " [8.11316539e-01 1.88683461e-01]\n",
      " [7.78780469e-01 2.21219531e-01]\n",
      " [6.89574924e-01 3.10425076e-01]\n",
      " [9.31675064e-01 6.83249362e-02]\n",
      " [5.73029044e-01 4.26970956e-01]\n",
      " [7.17095834e-01 2.82904166e-01]\n",
      " [6.15080952e-01 3.84919048e-01]\n",
      " [7.09434137e-01 2.90565863e-01]\n",
      " [6.98160085e-01 3.01839915e-01]\n",
      " [5.86566717e-01 4.13433283e-01]\n",
      " [7.92025409e-01 2.07974591e-01]\n",
      " [7.67118529e-01 2.32881471e-01]\n",
      " [6.98362392e-01 3.01637608e-01]\n",
      " [9.31825580e-01 6.81744199e-02]\n",
      " [3.75629554e-01 6.24370446e-01]\n",
      " [5.80966822e-01 4.19033178e-01]\n",
      " [8.35951038e-01 1.64048962e-01]]\n"
     ]
    }
   ],
   "source": [
    "#adjusting the threshold to get Better accuracy with good Recall Value.\n",
    "\n",
    "y_pred_prob = classifier.predict_proba(X_test)\n",
    "print(y_pred_prob)"
   ]
  },
  {
   "cell_type": "code",
   "execution_count": 64,
   "metadata": {},
   "outputs": [
    {
     "name": "stdout",
     "output_type": "stream",
     "text": [
      "Errors at threshold  0.4 : 62  , type 2 error : 38  , type 1 error: 24\n",
      "Errors at threshold  0.41000000000000003 : 58  , type 2 error : 39  , type 1 error: 19\n",
      "Errors at threshold  0.42000000000000004 : 57  , type 2 error : 40  , type 1 error: 17\n",
      "Errors at threshold  0.43000000000000005 : 54  , type 2 error : 40  , type 1 error: 14\n",
      "Errors at threshold  0.44000000000000006 : 55  , type 2 error : 43  , type 1 error: 12\n",
      "Errors at threshold  0.45000000000000007 : 55  , type 2 error : 45  , type 1 error: 10\n",
      "Errors at threshold  0.4600000000000001 : 55  , type 2 error : 45  , type 1 error: 10\n",
      "Errors at threshold  0.4700000000000001 : 55  , type 2 error : 46  , type 1 error: 9\n",
      "Errors at threshold  0.4800000000000001 : 55  , type 2 error : 46  , type 1 error: 9\n",
      "Errors at threshold  0.4900000000000001 : 56  , type 2 error : 48  , type 1 error: 8\n",
      "Errors at threshold  0.5000000000000001 : 55  , type 2 error : 48  , type 1 error: 7\n",
      "Errors at threshold  0.5100000000000001 : 57  , type 2 error : 50  , type 1 error: 7\n",
      "Errors at threshold  0.5200000000000001 : 59  , type 2 error : 52  , type 1 error: 7\n",
      "Errors at threshold  0.5300000000000001 : 59  , type 2 error : 52  , type 1 error: 7\n",
      "Errors at threshold  0.5400000000000001 : 56  , type 2 error : 52  , type 1 error: 4\n",
      "Errors at threshold  0.5500000000000002 : 55  , type 2 error : 53  , type 1 error: 2\n",
      "Errors at threshold  0.5600000000000002 : 55  , type 2 error : 53  , type 1 error: 2\n",
      "Errors at threshold  0.5700000000000002 : 57  , type 2 error : 55  , type 1 error: 2\n",
      "Errors at threshold  0.5800000000000002 : 57  , type 2 error : 55  , type 1 error: 2\n",
      "Errors at threshold  0.5900000000000002 : 57  , type 2 error : 55  , type 1 error: 2\n",
      "Errors at threshold  0.6000000000000002 : 57  , type 2 error : 55  , type 1 error: 2\n"
     ]
    }
   ],
   "source": [
    "#Checking for which Threahold fitting model using for Loop\n",
    "\n",
    "for a in np.arange(0.4,0.61,0.01):\n",
    "    predict_mine = np.where(y_pred_prob[:,1] > a, 1, 0)\n",
    "    cfm=confusion_matrix(Y_test, predict_mine)\n",
    "    total_err=cfm[0,1]+cfm[1,0]\n",
    "    print(\"Errors at threshold \", a, \":\",total_err, \" , type 2 error :\",\n",
    "    cfm[1,0],\" , type 1 error:\", cfm[0,1])"
   ]
  },
  {
   "cell_type": "markdown",
   "metadata": {},
   "source": [
    "Because support is not at all good, trying UPSAMPLING"
   ]
  },
  {
   "cell_type": "code",
   "execution_count": 65,
   "metadata": {},
   "outputs": [
    {
     "data": {
      "text/plain": [
       "0    416\n",
       "1    167\n",
       "Name: Class, dtype: int64"
      ]
     },
     "execution_count": 65,
     "metadata": {},
     "output_type": "execute_result"
    }
   ],
   "source": [
    "df_rev.Class.value_counts()"
   ]
  },
  {
   "cell_type": "markdown",
   "metadata": {},
   "source": [
    "# Performing Upsampling"
   ]
  },
  {
   "cell_type": "code",
   "execution_count": 67,
   "metadata": {},
   "outputs": [
    {
     "data": {
      "text/plain": [
       "1    416\n",
       "0    416\n",
       "Name: Class, dtype: int64"
      ]
     },
     "execution_count": 67,
     "metadata": {},
     "output_type": "execute_result"
    }
   ],
   "source": [
    "from sklearn.utils import resample\n",
    "# Separate majority and minority classes\n",
    "df_majority = df_rev[df_rev.Class==0]\n",
    "df_minority = df_rev[df_rev.Class==1]\n",
    "\n",
    "# Upsample minority class\n",
    "df_minority_upsampled = resample(df_minority,\n",
    "replace=True, # sample with replacement\n",
    "n_samples=416, # to match majority class\n",
    "random_state=10) # reproducible results\n",
    "\n",
    "# Combine majority class with upsampled minority class\n",
    "df_upsampled = pd.concat([df_majority, df_minority_upsampled])\n",
    "\n",
    "# Display new class counts\n",
    "df_upsampled.Class.value_counts()"
   ]
  },
  {
   "cell_type": "code",
   "execution_count": 68,
   "metadata": {},
   "outputs": [],
   "source": [
    "#After Upsampling split data again into X and Y\n",
    "\n",
    "X=df_upsampled.values[:,:-1]\n",
    "Y=df_upsampled.values[:,-1]\n",
    "Y=Y.astype(int)"
   ]
  },
  {
   "cell_type": "code",
   "execution_count": 69,
   "metadata": {},
   "outputs": [
    {
     "name": "stdout",
     "output_type": "stream",
     "text": [
      "[[ 1.30430146 -1.67304715 -0.73318097 ...  0.29459011  0.11403421\n",
      "  -0.20268259]\n",
      " [ 0.87537703  0.59771179 -0.44370826 ...  0.29459011  0.238544\n",
      "   0.16321024]\n",
      " [ 1.73322589  0.59771179  2.35452801 ...  0.72968195 -1.00655393\n",
      "  -2.03214677]\n",
      " ...\n",
      " [-0.96287054 -1.67304715 -0.44370826 ...  0.29459011 -0.13498538\n",
      "  -0.56857543]\n",
      " [-1.39179497  0.59771179 -0.73318097 ...  0.72968195  1.11011255\n",
      "   0.89499591]\n",
      " [ 0.87537703  0.59771179 -0.63669007 ...  1.51284726  1.48364193\n",
      "   0.52910307]]\n"
     ]
    }
   ],
   "source": [
    "#Code for Scalings\n",
    "\n",
    "from sklearn.preprocessing import StandardScaler\n",
    "scaler=StandardScaler()\n",
    "scaler.fit(X)\n",
    "X=scaler.transform(X)\n",
    "print(X)"
   ]
  },
  {
   "cell_type": "code",
   "execution_count": 71,
   "metadata": {},
   "outputs": [],
   "source": [
    "#Spliting X and Y to 'X_train,X_test,Y_train,Y_test'\n",
    "\n",
    "from sklearn.model_selection import train_test_split\n",
    "X_train,X_test,Y_train,Y_test=train_test_split(X,Y,test_size=0.3,random_state=10)"
   ]
  },
  {
   "cell_type": "code",
   "execution_count": 73,
   "metadata": {},
   "outputs": [
    {
     "name": "stdout",
     "output_type": "stream",
     "text": [
      "[[79 51]\n",
      " [22 98]]\n",
      "Classification report:\n",
      "              precision    recall  f1-score   support\n",
      "\n",
      "           0       0.78      0.61      0.68       130\n",
      "           1       0.66      0.82      0.73       120\n",
      "\n",
      "    accuracy                           0.71       250\n",
      "   macro avg       0.72      0.71      0.71       250\n",
      "weighted avg       0.72      0.71      0.71       250\n",
      "\n",
      "Accracy of the model: 0.708\n"
     ]
    }
   ],
   "source": [
    "#Performing Logistic model on Upsampling Data\n",
    "\n",
    "from sklearn.linear_model import LogisticRegression\n",
    "classifier=LogisticRegression()\n",
    "classifier.fit(X_train,Y_train)\n",
    "Y_pred=classifier.predict(X_test)\n",
    "\n",
    "#Ploting confusion Metrics\n",
    "\n",
    "from sklearn.metrics import confusion_matrix,accuracy_score,classification_report\n",
    "cfm=confusion_matrix(Y_test,Y_pred)\n",
    "print(cfm)\n",
    "print(\"Classification report:\")\n",
    "print(classification_report(Y_test,Y_pred))#recall is accuracy score for individual class. class 0 is called as specificity or TNR, class 1 is called sensitivity or TPR\n",
    "acc=accuracy_score(Y_test,Y_pred)\n",
    "print(\"Accracy of the model:\",acc)\n",
    "\n",
    "\n",
    "####Accuracy :  0.708\n",
    "####Recall   :  0.61 --->0\n",
    "####            0.82 --->1"
   ]
  },
  {
   "cell_type": "markdown",
   "metadata": {},
   "source": [
    "# Decision tree Model with Sampling"
   ]
  },
  {
   "cell_type": "code",
   "execution_count": 74,
   "metadata": {},
   "outputs": [
    {
     "data": {
      "text/plain": [
       "DecisionTreeClassifier(class_weight=None, criterion='gini', max_depth=None,\n",
       "                       max_features=None, max_leaf_nodes=None,\n",
       "                       min_impurity_decrease=0.0, min_impurity_split=None,\n",
       "                       min_samples_leaf=1, min_samples_split=2,\n",
       "                       min_weight_fraction_leaf=0.0, presort=False,\n",
       "                       random_state=10, splitter='best')"
      ]
     },
     "execution_count": 74,
     "metadata": {},
     "output_type": "execute_result"
    }
   ],
   "source": [
    "from sklearn.tree import DecisionTreeClassifier\n",
    "model_DecisionTree=DecisionTreeClassifier(criterion=\"gini\",random_state=10)\n",
    "model_DecisionTree.fit(X_train,Y_train)"
   ]
  },
  {
   "cell_type": "code",
   "execution_count": 75,
   "metadata": {},
   "outputs": [],
   "source": [
    "Y_pred=model_DecisionTree.predict(X_test)"
   ]
  },
  {
   "cell_type": "code",
   "execution_count": 76,
   "metadata": {},
   "outputs": [
    {
     "name": "stdout",
     "output_type": "stream",
     "text": [
      "[[ 90  40]\n",
      " [  6 114]]\n",
      "Classification report:\n",
      "              precision    recall  f1-score   support\n",
      "\n",
      "           0       0.94      0.69      0.80       130\n",
      "           1       0.74      0.95      0.83       120\n",
      "\n",
      "    accuracy                           0.82       250\n",
      "   macro avg       0.84      0.82      0.81       250\n",
      "weighted avg       0.84      0.82      0.81       250\n",
      "\n",
      "Accracy of the model: 0.816\n"
     ]
    }
   ],
   "source": [
    "#Ploting confusion Metrics\n",
    "\n",
    "from sklearn.metrics import confusion_matrix,accuracy_score,classification_report\n",
    "cfm=confusion_matrix(Y_test,Y_pred)\n",
    "print(cfm)\n",
    "print(\"Classification report:\")\n",
    "print(classification_report(Y_test,Y_pred))#recall is accuracy score for individual class. class 0 is called as specificity or TNR, class 1 is called sensitivity or TPR\n",
    "acc=accuracy_score(Y_test,Y_pred)\n",
    "print(\"Accracy of the model:\",acc)\n",
    "\n",
    "####Accuracy :  0.816\n",
    "####Recall   :  0.69 --->0\n",
    "####            0.95 --->1\n"
   ]
  },
  {
   "cell_type": "markdown",
   "metadata": {},
   "source": [
    "# ExtraTreesClassifier with sampling"
   ]
  },
  {
   "cell_type": "code",
   "execution_count": 99,
   "metadata": {},
   "outputs": [
    {
     "name": "stdout",
     "output_type": "stream",
     "text": [
      "[[106  24]\n",
      " [  1 119]]\n",
      "\n",
      "0.9\n",
      "\n",
      "              precision    recall  f1-score   support\n",
      "\n",
      "           0       0.99      0.82      0.89       130\n",
      "           1       0.83      0.99      0.90       120\n",
      "\n",
      "    accuracy                           0.90       250\n",
      "   macro avg       0.91      0.90      0.90       250\n",
      "weighted avg       0.91      0.90      0.90       250\n",
      "\n"
     ]
    }
   ],
   "source": [
    "from sklearn.ensemble import ExtraTreesClassifier\n",
    "\n",
    "model=ExtraTreesClassifier(27,random_state=10)\n",
    "#fit the model on the data and predict the values\n",
    "model=model.fit(X_train,Y_train)\n",
    "\n",
    "Y_pred=model.predict(X_test)\n",
    "\n",
    " \n",
    "\n",
    "###############\n",
    "\n",
    "from sklearn.metrics import confusion_matrix,accuracy_score,classification_report\n",
    "print(confusion_matrix(Y_test,Y_pred))\n",
    "print()\n",
    "print(accuracy_score(Y_test,Y_pred))\n",
    "print()\n",
    "print(classification_report(Y_test,Y_pred))\n",
    "\n",
    "####Accuracy :  0.90\n",
    "####Recall   :  0.82 --->0  YES\n",
    "####            0.99 --->1 NO"
   ]
  },
  {
   "cell_type": "markdown",
   "metadata": {},
   "source": [
    "# Random forest with samping"
   ]
  },
  {
   "cell_type": "code",
   "execution_count": 79,
   "metadata": {},
   "outputs": [
    {
     "name": "stdout",
     "output_type": "stream",
     "text": [
      "[[100  30]\n",
      " [  5 115]]\n",
      "\n",
      "0.86\n",
      "\n",
      "              precision    recall  f1-score   support\n",
      "\n",
      "           0       0.95      0.77      0.85       130\n",
      "           1       0.79      0.96      0.87       120\n",
      "\n",
      "    accuracy                           0.86       250\n",
      "   macro avg       0.87      0.86      0.86       250\n",
      "weighted avg       0.88      0.86      0.86       250\n",
      "\n"
     ]
    }
   ],
   "source": [
    "from sklearn.ensemble import RandomForestClassifier\n",
    "\n",
    "model_RandomForest=RandomForestClassifier(n_estimators=30,random_state=10)\n",
    "\n",
    "#fit the model on the data and predict the values\n",
    "model_RandomForest.fit(X_train,Y_train)\n",
    "\n",
    "Y_pred=model_RandomForest.predict(X_test)\n",
    "\n",
    "\n",
    "from sklearn.metrics import confusion_matrix,accuracy_score,classification_report\n",
    "print(confusion_matrix(Y_test,Y_pred))\n",
    "print()\n",
    "print(accuracy_score(Y_test,Y_pred))\n",
    "print()\n",
    "print(classification_report(Y_test,Y_pred))\n",
    "\n",
    "####Accuracy :  0.86\n",
    "####Recall   :  0.77 --->0\n",
    "####            0.96 --->1"
   ]
  },
  {
   "cell_type": "markdown",
   "metadata": {},
   "source": [
    "# Neural Network with sampling "
   ]
  },
  {
   "cell_type": "code",
   "execution_count": 106,
   "metadata": {},
   "outputs": [
    {
     "name": "stdout",
     "output_type": "stream",
     "text": [
      "[[81 49]\n",
      " [31 89]]\n",
      "Classification report:\n",
      "              precision    recall  f1-score   support\n",
      "\n",
      "           0       0.72      0.62      0.67       130\n",
      "           1       0.64      0.74      0.69       120\n",
      "\n",
      "    accuracy                           0.68       250\n",
      "   macro avg       0.68      0.68      0.68       250\n",
      "weighted avg       0.69      0.68      0.68       250\n",
      "\n",
      "Accracy of the model: 0.68\n"
     ]
    }
   ],
   "source": [
    "#Implimenting Neural Network\n",
    "\n",
    "from sklearn.neural_network import MLPClassifier\n",
    "mlp=MLPClassifier(hidden_layer_sizes=(10,10,10),max_iter=30,early_stopping=False,random_state=10,activation=\"relu\")\n",
    "mlp.fit(X_train,Y_train)\n",
    "Y_pred=mlp.predict(X_test)\n",
    "#print(list(zip(Y_test,Y_pred)))\n",
    "\n",
    "#Ploting confusion Metrics\n",
    "\n",
    "from sklearn.metrics import confusion_matrix,accuracy_score,classification_report\n",
    "cfm=confusion_matrix(Y_test,Y_pred)\n",
    "print(cfm)\n",
    "print(\"Classification report:\")\n",
    "print(classification_report(Y_test,Y_pred))#recall is accuracy score for individual class. class 0 is called as specificity or TNR, class 1 is called sensitivity or TPR\n",
    "acc=accuracy_score(Y_test,Y_pred)#unneccessary dont prune the model on gud model coz if u do it would affect worse\n",
    "print(\"Accracy of the model:\",acc)\n",
    "\n",
    "####Accuracy :  0.68\n",
    "####Recall   :  0.62 --->0\n",
    "####            0.74 --->1"
   ]
  },
  {
   "cell_type": "code",
   "execution_count": null,
   "metadata": {},
   "outputs": [],
   "source": []
  }
 ],
 "metadata": {
  "kernelspec": {
   "display_name": "Python 3",
   "language": "python",
   "name": "python3"
  },
  "language_info": {
   "codemirror_mode": {
    "name": "ipython",
    "version": 3
   },
   "file_extension": ".py",
   "mimetype": "text/x-python",
   "name": "python",
   "nbconvert_exporter": "python",
   "pygments_lexer": "ipython3",
   "version": "3.7.4"
  }
 },
 "nbformat": 4,
 "nbformat_minor": 2
}
